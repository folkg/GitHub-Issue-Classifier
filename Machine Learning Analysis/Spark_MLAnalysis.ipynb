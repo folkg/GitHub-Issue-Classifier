{
  "cells": [
    {
      "cell_type": "markdown",
      "metadata": {
        "application/vnd.databricks.v1+cell": {
          "cellMetadata": {},
          "inputWidgets": {},
          "nuid": "2daefafb-3f0a-433c-a53d-c77fb3a1a6d1",
          "showTitle": false,
          "title": ""
        },
        "id": "NdNlZ82-1akX"
      },
      "source": [
        "Import the required packages and set up the Spark session with spark-nlp."
      ]
    },
    {
      "cell_type": "code",
      "execution_count": 1,
      "metadata": {
        "application/vnd.databricks.v1+cell": {
          "cellMetadata": {},
          "inputWidgets": {},
          "nuid": "22500780-004c-4248-ae2a-d7338107aa50",
          "showTitle": false,
          "title": ""
        },
        "colab": {
          "base_uri": "https://localhost:8080/"
        },
        "id": "4lQMiiQj4Ceq",
        "outputId": "2bd6bb49-9fe3-48bd-8726-6b5a39b4277c"
      },
      "outputs": [
        {
          "output_type": "stream",
          "name": "stdout",
          "text": [
            "--2022-12-08 21:24:28--  http://setup.johnsnowlabs.com/colab.sh\n",
            "Resolving setup.johnsnowlabs.com (setup.johnsnowlabs.com)... 51.158.130.125\n",
            "Connecting to setup.johnsnowlabs.com (setup.johnsnowlabs.com)|51.158.130.125|:80... connected.\n",
            "HTTP request sent, awaiting response... 302 Found\n",
            "Location: https://setup.johnsnowlabs.com/colab.sh [following]\n",
            "--2022-12-08 21:24:29--  https://setup.johnsnowlabs.com/colab.sh\n",
            "Connecting to setup.johnsnowlabs.com (setup.johnsnowlabs.com)|51.158.130.125|:443... connected.\n",
            "HTTP request sent, awaiting response... 302 Moved Temporarily\n",
            "Location: https://raw.githubusercontent.com/JohnSnowLabs/spark-nlp/master/scripts/colab_setup.sh [following]\n",
            "--2022-12-08 21:24:30--  https://raw.githubusercontent.com/JohnSnowLabs/spark-nlp/master/scripts/colab_setup.sh\n",
            "Resolving raw.githubusercontent.com (raw.githubusercontent.com)... 185.199.108.133, 185.199.109.133, 185.199.110.133, ...\n",
            "Connecting to raw.githubusercontent.com (raw.githubusercontent.com)|185.199.108.133|:443... connected.\n",
            "HTTP request sent, awaiting response... 200 OK\n",
            "Length: 1191 (1.2K) [text/plain]\n",
            "Saving to: ‘STDOUT’\n",
            "\n",
            "-                   100%[===================>]   1.16K  --.-KB/s    in 0s      \n",
            "\n",
            "2022-12-08 21:24:31 (45.7 MB/s) - written to stdout [1191/1191]\n",
            "\n",
            "Installing PySpark 3.2.1 and Spark NLP 4.2.4\n",
            "setup Colab for PySpark 3.2.1 and Spark NLP 4.2.4\n",
            "\u001b[K     |████████████████████████████████| 281.4 MB 35 kB/s \n",
            "\u001b[K     |████████████████████████████████| 448 kB 54.4 MB/s \n",
            "\u001b[K     |████████████████████████████████| 198 kB 54.5 MB/s \n",
            "\u001b[?25h  Building wheel for pyspark (setup.py) ... \u001b[?25l\u001b[?25hdone\n"
          ]
        }
      ],
      "source": [
        "!wget http://setup.johnsnowlabs.com/colab.sh -O - | bash"
      ]
    },
    {
      "cell_type": "code",
      "execution_count": 2,
      "metadata": {
        "application/vnd.databricks.v1+cell": {
          "cellMetadata": {},
          "inputWidgets": {},
          "nuid": "ae55b329-acdf-448c-a753-b8cf9fe2e363",
          "showTitle": false,
          "title": ""
        },
        "colab": {
          "base_uri": "https://localhost:8080/"
        },
        "id": "bupBLDVQ4Cer",
        "outputId": "cf413ee5-460d-4640-fa1f-f2446eef8667"
      },
      "outputs": [
        {
          "output_type": "stream",
          "name": "stdout",
          "text": [
            "Spark NLP version: 4.2.4\n",
            "Apache Spark version: 3.2.1\n"
          ]
        }
      ],
      "source": [
        "import sparknlp\n",
        "from sparknlp.base import *\n",
        "from sparknlp.annotator import *\n",
        "spark = sparknlp.start()\n",
        "\n",
        "print(\"Spark NLP version: {}\".format(sparknlp.version()))\n",
        "print(\"Apache Spark version: {}\".format(spark.version))"
      ]
    },
    {
      "cell_type": "markdown",
      "metadata": {
        "application/vnd.databricks.v1+cell": {
          "cellMetadata": {},
          "inputWidgets": {},
          "nuid": "4a9d12eb-f3a9-405c-b139-3e24b5ab60e1",
          "showTitle": false,
          "title": ""
        },
        "id": "CYN69IIX1akj"
      },
      "source": [
        "Load the CSV file (n=1000 samples) containing our manual labels as the target vector"
      ]
    },
    {
      "cell_type": "code",
      "execution_count": 3,
      "metadata": {
        "id": "LyWE0oAH4bak",
        "colab": {
          "base_uri": "https://localhost:8080/",
          "height": 73
        },
        "outputId": "d6fad515-da06-44dd-90cb-0159bf912cfb"
      },
      "outputs": [
        {
          "output_type": "display_data",
          "data": {
            "text/plain": [
              "<IPython.core.display.HTML object>"
            ],
            "text/html": [
              "\n",
              "     <input type=\"file\" id=\"files-eedce88b-c596-408c-b0b3-de6b9855dc59\" name=\"files[]\" multiple disabled\n",
              "        style=\"border:none\" />\n",
              "     <output id=\"result-eedce88b-c596-408c-b0b3-de6b9855dc59\">\n",
              "      Upload widget is only available when the cell has been executed in the\n",
              "      current browser session. Please rerun this cell to enable.\n",
              "      </output>\n",
              "      <script>// Copyright 2017 Google LLC\n",
              "//\n",
              "// Licensed under the Apache License, Version 2.0 (the \"License\");\n",
              "// you may not use this file except in compliance with the License.\n",
              "// You may obtain a copy of the License at\n",
              "//\n",
              "//      http://www.apache.org/licenses/LICENSE-2.0\n",
              "//\n",
              "// Unless required by applicable law or agreed to in writing, software\n",
              "// distributed under the License is distributed on an \"AS IS\" BASIS,\n",
              "// WITHOUT WARRANTIES OR CONDITIONS OF ANY KIND, either express or implied.\n",
              "// See the License for the specific language governing permissions and\n",
              "// limitations under the License.\n",
              "\n",
              "/**\n",
              " * @fileoverview Helpers for google.colab Python module.\n",
              " */\n",
              "(function(scope) {\n",
              "function span(text, styleAttributes = {}) {\n",
              "  const element = document.createElement('span');\n",
              "  element.textContent = text;\n",
              "  for (const key of Object.keys(styleAttributes)) {\n",
              "    element.style[key] = styleAttributes[key];\n",
              "  }\n",
              "  return element;\n",
              "}\n",
              "\n",
              "// Max number of bytes which will be uploaded at a time.\n",
              "const MAX_PAYLOAD_SIZE = 100 * 1024;\n",
              "\n",
              "function _uploadFiles(inputId, outputId) {\n",
              "  const steps = uploadFilesStep(inputId, outputId);\n",
              "  const outputElement = document.getElementById(outputId);\n",
              "  // Cache steps on the outputElement to make it available for the next call\n",
              "  // to uploadFilesContinue from Python.\n",
              "  outputElement.steps = steps;\n",
              "\n",
              "  return _uploadFilesContinue(outputId);\n",
              "}\n",
              "\n",
              "// This is roughly an async generator (not supported in the browser yet),\n",
              "// where there are multiple asynchronous steps and the Python side is going\n",
              "// to poll for completion of each step.\n",
              "// This uses a Promise to block the python side on completion of each step,\n",
              "// then passes the result of the previous step as the input to the next step.\n",
              "function _uploadFilesContinue(outputId) {\n",
              "  const outputElement = document.getElementById(outputId);\n",
              "  const steps = outputElement.steps;\n",
              "\n",
              "  const next = steps.next(outputElement.lastPromiseValue);\n",
              "  return Promise.resolve(next.value.promise).then((value) => {\n",
              "    // Cache the last promise value to make it available to the next\n",
              "    // step of the generator.\n",
              "    outputElement.lastPromiseValue = value;\n",
              "    return next.value.response;\n",
              "  });\n",
              "}\n",
              "\n",
              "/**\n",
              " * Generator function which is called between each async step of the upload\n",
              " * process.\n",
              " * @param {string} inputId Element ID of the input file picker element.\n",
              " * @param {string} outputId Element ID of the output display.\n",
              " * @return {!Iterable<!Object>} Iterable of next steps.\n",
              " */\n",
              "function* uploadFilesStep(inputId, outputId) {\n",
              "  const inputElement = document.getElementById(inputId);\n",
              "  inputElement.disabled = false;\n",
              "\n",
              "  const outputElement = document.getElementById(outputId);\n",
              "  outputElement.innerHTML = '';\n",
              "\n",
              "  const pickedPromise = new Promise((resolve) => {\n",
              "    inputElement.addEventListener('change', (e) => {\n",
              "      resolve(e.target.files);\n",
              "    });\n",
              "  });\n",
              "\n",
              "  const cancel = document.createElement('button');\n",
              "  inputElement.parentElement.appendChild(cancel);\n",
              "  cancel.textContent = 'Cancel upload';\n",
              "  const cancelPromise = new Promise((resolve) => {\n",
              "    cancel.onclick = () => {\n",
              "      resolve(null);\n",
              "    };\n",
              "  });\n",
              "\n",
              "  // Wait for the user to pick the files.\n",
              "  const files = yield {\n",
              "    promise: Promise.race([pickedPromise, cancelPromise]),\n",
              "    response: {\n",
              "      action: 'starting',\n",
              "    }\n",
              "  };\n",
              "\n",
              "  cancel.remove();\n",
              "\n",
              "  // Disable the input element since further picks are not allowed.\n",
              "  inputElement.disabled = true;\n",
              "\n",
              "  if (!files) {\n",
              "    return {\n",
              "      response: {\n",
              "        action: 'complete',\n",
              "      }\n",
              "    };\n",
              "  }\n",
              "\n",
              "  for (const file of files) {\n",
              "    const li = document.createElement('li');\n",
              "    li.append(span(file.name, {fontWeight: 'bold'}));\n",
              "    li.append(span(\n",
              "        `(${file.type || 'n/a'}) - ${file.size} bytes, ` +\n",
              "        `last modified: ${\n",
              "            file.lastModifiedDate ? file.lastModifiedDate.toLocaleDateString() :\n",
              "                                    'n/a'} - `));\n",
              "    const percent = span('0% done');\n",
              "    li.appendChild(percent);\n",
              "\n",
              "    outputElement.appendChild(li);\n",
              "\n",
              "    const fileDataPromise = new Promise((resolve) => {\n",
              "      const reader = new FileReader();\n",
              "      reader.onload = (e) => {\n",
              "        resolve(e.target.result);\n",
              "      };\n",
              "      reader.readAsArrayBuffer(file);\n",
              "    });\n",
              "    // Wait for the data to be ready.\n",
              "    let fileData = yield {\n",
              "      promise: fileDataPromise,\n",
              "      response: {\n",
              "        action: 'continue',\n",
              "      }\n",
              "    };\n",
              "\n",
              "    // Use a chunked sending to avoid message size limits. See b/62115660.\n",
              "    let position = 0;\n",
              "    do {\n",
              "      const length = Math.min(fileData.byteLength - position, MAX_PAYLOAD_SIZE);\n",
              "      const chunk = new Uint8Array(fileData, position, length);\n",
              "      position += length;\n",
              "\n",
              "      const base64 = btoa(String.fromCharCode.apply(null, chunk));\n",
              "      yield {\n",
              "        response: {\n",
              "          action: 'append',\n",
              "          file: file.name,\n",
              "          data: base64,\n",
              "        },\n",
              "      };\n",
              "\n",
              "      let percentDone = fileData.byteLength === 0 ?\n",
              "          100 :\n",
              "          Math.round((position / fileData.byteLength) * 100);\n",
              "      percent.textContent = `${percentDone}% done`;\n",
              "\n",
              "    } while (position < fileData.byteLength);\n",
              "  }\n",
              "\n",
              "  // All done.\n",
              "  yield {\n",
              "    response: {\n",
              "      action: 'complete',\n",
              "    }\n",
              "  };\n",
              "}\n",
              "\n",
              "scope.google = scope.google || {};\n",
              "scope.google.colab = scope.google.colab || {};\n",
              "scope.google.colab._files = {\n",
              "  _uploadFiles,\n",
              "  _uploadFilesContinue,\n",
              "};\n",
              "})(self);\n",
              "</script> "
            ]
          },
          "metadata": {}
        },
        {
          "output_type": "stream",
          "name": "stdout",
          "text": [
            "Saving GH-React.csv to GH-React.csv\n"
          ]
        }
      ],
      "source": [
        "from google.colab import files\n",
        "uploaded = files.upload()"
      ]
    },
    {
      "cell_type": "code",
      "execution_count": 4,
      "metadata": {
        "application/vnd.databricks.v1+cell": {
          "cellMetadata": {},
          "inputWidgets": {},
          "nuid": "089acf00-87a3-496e-aee2-9c5d7579e39f",
          "showTitle": false,
          "title": ""
        },
        "id": "Tt-IvHx9Uy6U"
      },
      "outputs": [],
      "source": [
        "from pyspark.sql.functions import col\n",
        "df = (spark.read\n",
        "  .format(\"csv\")\n",
        "  .option(\"header\", \"true\")\n",
        "  .option(\"inferSchema\", \"true\")\n",
        "  .option(\"multiline\", \"true\")\n",
        "  .option(\"quote\", '\"')  \n",
        "  .option(\"escape\", \"\\\\\")\n",
        "  .option(\"escape\", '\"')\n",
        "  .load(\"GH-React.csv\")\n",
        ")\n",
        "df = df.select(col('title'), col('author_association'), col('body'), col('Target'))"
      ]
    },
    {
      "cell_type": "code",
      "execution_count": 5,
      "metadata": {
        "application/vnd.databricks.v1+cell": {
          "cellMetadata": {},
          "inputWidgets": {},
          "nuid": "7ec887aa-c724-44ea-a4dd-3a4a74f58a9f",
          "showTitle": false,
          "title": ""
        },
        "id": "XjYOMWb8cDYG"
      },
      "outputs": [],
      "source": [
        "# a helper function to get the shape of a Spark DF\n",
        "def sparkdf_shape(df):\n",
        "  return df.count(), len(df.columns)"
      ]
    },
    {
      "cell_type": "code",
      "execution_count": 6,
      "metadata": {
        "application/vnd.databricks.v1+cell": {
          "cellMetadata": {},
          "inputWidgets": {},
          "nuid": "1728f56e-9a9b-4cc9-b3fe-02b474374b98",
          "showTitle": false,
          "title": ""
        },
        "colab": {
          "base_uri": "https://localhost:8080/"
        },
        "id": "PJCJMcvf1akk",
        "outputId": "aae967ca-e7cb-487b-9a01-a5e48c702cbd"
      },
      "outputs": [
        {
          "output_type": "stream",
          "name": "stdout",
          "text": [
            "Shape: (1000, 4)\n"
          ]
        }
      ],
      "source": [
        "print(\"Shape:\", sparkdf_shape(df))"
      ]
    },
    {
      "cell_type": "markdown",
      "metadata": {
        "application/vnd.databricks.v1+cell": {
          "cellMetadata": {},
          "inputWidgets": {},
          "nuid": "8a85fe5a-3c5c-4623-b3c9-979164892f20",
          "showTitle": false,
          "title": ""
        },
        "id": "Y65k16_81akl"
      },
      "source": [
        "## Machine Learning Pipeline"
      ]
    },
    {
      "cell_type": "markdown",
      "metadata": {
        "application/vnd.databricks.v1+cell": {
          "cellMetadata": {},
          "inputWidgets": {},
          "nuid": "8727052e-d708-4c1f-bf50-d99769473aa5",
          "showTitle": false,
          "title": ""
        },
        "id": "avs7tFGa1akp"
      },
      "source": [
        "### Stage 1\n",
        "Split the data into training (80%) and validation(20%) sets. We will stratify based on the label since our dataset is imbalanced."
      ]
    },
    {
      "cell_type": "code",
      "execution_count": 7,
      "metadata": {
        "application/vnd.databricks.v1+cell": {
          "cellMetadata": {},
          "inputWidgets": {},
          "nuid": "42df5b3c-46df-46ff-a419-fb2eaf128548",
          "showTitle": false,
          "title": ""
        },
        "id": "Z1vDn8i4XK3_"
      },
      "outputs": [],
      "source": [
        "# create a stratified sample for the training set using a 0.8 ratio\n",
        "train = df.stat.sampleBy(\"Target\", fractions={\"Bug\":0.8, \"Feature\":0.8, \"Support\": 0.8, \"Other\": 0.8}, seed=2)\n",
        "validate = df.exceptAll(train)"
      ]
    },
    {
      "cell_type": "code",
      "execution_count": 9,
      "metadata": {
        "application/vnd.databricks.v1+cell": {
          "cellMetadata": {},
          "inputWidgets": {},
          "nuid": "9316e598-122a-4a0f-888c-3d332cf10d9b",
          "showTitle": false,
          "title": ""
        },
        "colab": {
          "base_uri": "https://localhost:8080/"
        },
        "id": "0E-spsWrYlqK",
        "outputId": "61e0c511-13ca-405d-cdd3-bf4772ae8f6f"
      },
      "outputs": [
        {
          "output_type": "stream",
          "name": "stdout",
          "text": [
            "training set size: 799\n",
            "validation set size: 201\n"
          ]
        }
      ],
      "source": [
        "print(\"training set size:\",train.count())\n",
        "print(\"validation set size:\",validate.count())"
      ]
    },
    {
      "cell_type": "markdown",
      "metadata": {
        "application/vnd.databricks.v1+cell": {
          "cellMetadata": {},
          "inputWidgets": {},
          "nuid": "f800d050-633d-4efc-aeae-0b0df3c0f4fa",
          "showTitle": false,
          "title": ""
        },
        "id": "0E69SEfKIUAe"
      },
      "source": [
        "### Stage 2\n",
        "The strip_text() function is defined below. It takes in a String formatted as Markdown from GitHub and pre-processes it to return a new string ready for the next stages in our ML Pipeline."
      ]
    },
    {
      "cell_type": "code",
      "execution_count": 10,
      "metadata": {
        "application/vnd.databricks.v1+cell": {
          "cellMetadata": {},
          "inputWidgets": {},
          "nuid": "302fe141-9ca3-46e3-97d1-dc0c9f88972f",
          "showTitle": false,
          "title": ""
        },
        "id": "Vgh1cZUk1akm"
      },
      "outputs": [],
      "source": [
        "import re\n",
        "from pyspark.sql.functions import udf\n",
        "\n",
        "@udf(\"String\")\n",
        "def strip_text(text):\n",
        "  if text is not None:\n",
        "    stripped = text.lower()    \n",
        "\n",
        "    # remove all headings, bold text, and HTML comments from the Markdown text.\n",
        "    # These items have all been used by the React team in their issue templates on GitHub\n",
        "    headings_pattern = r'(<=\\s|^)#{1,6}(.*?)$'\n",
        "    bold_pattern = r'\\*\\*(.+?)\\*\\*(?!\\*)'\n",
        "    comments_pattern = r'<!--((.|\\n)*?)-->'\n",
        "    combined_pattern = r'|'.join((headings_pattern, bold_pattern, comments_pattern))\n",
        "\n",
        "    stripped = re.sub(combined_pattern, '', stripped)\n",
        "\n",
        "    # find all URLs in the string, and then remove the final directory from each to leave the general URL form\n",
        "    # there may be useful patterns based on what URLs issues are commonly linking to\n",
        "    url_pattern = re.compile(r'(https?://[^\\s]+)')\n",
        "    for url in re.findall(url_pattern, stripped):\n",
        "        new_url = url.rsplit(\"/\", 1)[0]\n",
        "        stripped = stripped.replace(url, new_url)\n",
        "\n",
        "    non_alpha_pattern = r'[^A-Za-z ]+'\n",
        "    stripped = re.sub(non_alpha_pattern, '', stripped)    \n",
        "    \n",
        "    return ' '.join(stripped.split())\n",
        "  else:\n",
        "    return \" \""
      ]
    },
    {
      "cell_type": "markdown",
      "metadata": {
        "application/vnd.databricks.v1+cell": {
          "cellMetadata": {},
          "inputWidgets": {},
          "nuid": "79188e9e-6ef9-4615-9a16-c0f1433037aa",
          "showTitle": false,
          "title": ""
        },
        "id": "NfJ9VGITVTs7"
      },
      "source": [
        "Apply the strip_text() function to both the title and body columns in the train and validation datasets"
      ]
    },
    {
      "cell_type": "code",
      "execution_count": 11,
      "metadata": {
        "application/vnd.databricks.v1+cell": {
          "cellMetadata": {},
          "inputWidgets": {},
          "nuid": "d439c427-5b23-4ba6-ac5d-73f9fa673ecf",
          "showTitle": false,
          "title": ""
        },
        "id": "KQtewuXEOu7B"
      },
      "outputs": [],
      "source": [
        "train_data = train.withColumn(\"body\", strip_text(col(\"body\"))).withColumn(\"title\", strip_text(col(\"title\")))\n",
        "validation_data = validate.withColumn(\"body\", strip_text(col(\"body\"))).withColumn(\"title\", strip_text(col(\"title\")))"
      ]
    },
    {
      "cell_type": "markdown",
      "metadata": {
        "application/vnd.databricks.v1+cell": {
          "cellMetadata": {},
          "inputWidgets": {},
          "nuid": "e8a42be0-517a-459a-b816-6dcecafe8217",
          "showTitle": false,
          "title": ""
        },
        "id": "uClT0AKJjGnk"
      },
      "source": [
        "Check that the strip_text() function worked as expected on one sample:"
      ]
    },
    {
      "cell_type": "code",
      "execution_count": 12,
      "metadata": {
        "application/vnd.databricks.v1+cell": {
          "cellMetadata": {},
          "inputWidgets": {},
          "nuid": "0a1154a5-9f40-46c0-a74d-1a1c5b64658b",
          "showTitle": false,
          "title": ""
        },
        "colab": {
          "base_uri": "https://localhost:8080/"
        },
        "id": "1mLlJr39PFbe",
        "outputId": "8cd38c2c-8bb3-473a-c694-ea696f1d4cd5"
      },
      "outputs": [
        {
          "output_type": "execute_result",
          "data": {
            "text/plain": [
              "[Row(title='reactnativecustomtabs not return response', author_association='NONE', body='i have created button to open custontabs to use external url into reactnative app external url have some forms that are submitted and return array as a response into another page ie success page i want to get response from success page into app and customtabs would be close automatically code for custom taburl httpswwwexamplecomcustomtabsopenurlurl toolbarcolor dbenableurlbarhiding trueshowpagetitle trueenabledefaultshare trueanimations animationsslidethenlaunched boolean consoleloglaunched custom tabs launchedcatcherr consoleerrorerr', Target='Feature')]"
            ]
          },
          "metadata": {},
          "execution_count": 12
        }
      ],
      "source": [
        "train_data.take(1)"
      ]
    },
    {
      "cell_type": "markdown",
      "metadata": {
        "application/vnd.databricks.v1+cell": {
          "cellMetadata": {},
          "inputWidgets": {},
          "nuid": "b533c8a1-e784-4370-9aa3-de93214d5eab",
          "showTitle": false,
          "title": ""
        },
        "id": "C_fYmBil1akq"
      },
      "source": [
        "### Stage 3\n",
        "Create a TF-IDF features vector using a PySpark Pipeline. We will use TF-IDF applied to stemmed ngrams from both the issue title and body columns. We wi\n",
        "\n",
        "We will apply this step separately to both the body and title to produce a different set of features for each. The tokens in the title may hold different importance than the same token in the body.\n",
        "\n",
        "We will additionally add in the feature 'author_association' from the GitHub issue, as there may be a correlation between Members/Collaborators/Contributors submitting more valid bugs/feature requests than \"None\" users. This will be applied using one-hot-encoder."
      ]
    },
    {
      "cell_type": "code",
      "execution_count": 13,
      "metadata": {
        "id": "5rEL3mgmn-FQ"
      },
      "outputs": [],
      "source": [
        "from pyspark.ml.feature import CountVectorizer, IDF\n",
        "from pyspark.ml.feature import StringIndexer\n",
        "from pyspark.ml.feature import OneHotEncoder\n",
        "from pyspark.ml.feature import VectorAssembler\n",
        "from pyspark.ml import Pipeline"
      ]
    },
    {
      "cell_type": "code",
      "execution_count": 16,
      "metadata": {
        "application/vnd.databricks.v1+cell": {
          "cellMetadata": {},
          "inputWidgets": {},
          "nuid": "e06e8323-ad77-4576-9003-a6ddfcdaea26",
          "showTitle": false,
          "title": ""
        },
        "colab": {
          "base_uri": "https://localhost:8080/"
        },
        "id": "zl4o2oAxCIOQ",
        "outputId": "a8499f4d-fcb2-4ccf-d1c6-c229811a67b0"
      },
      "outputs": [
        {
          "output_type": "stream",
          "name": "stdout",
          "text": [
            "lemma_antbnc download started this may take some time.\n",
            "Approximate size to download 907.6 KB\n",
            "[OK!]\n",
            "lemma_antbnc download started this may take some time.\n",
            "Approximate size to download 907.6 KB\n",
            "[OK!]\n"
          ]
        }
      ],
      "source": [
        "# NLP Pipeline\n",
        "documentAssemblerTitle = DocumentAssembler().setInputCol('title').setOutputCol('titles')\n",
        "documentAssemblerBody = DocumentAssembler().setInputCol('body').setOutputCol('bodies')\n",
        "tokenizer_titles = Tokenizer().setInputCols(['titles']).setOutputCol('tokenized_titles')\n",
        "tokenizer_bodies = Tokenizer().setInputCols(['bodies']).setOutputCol('tokenized_bodies')\n",
        "lemmatizer_titles = LemmatizerModel.pretrained().setInputCols(['tokenized_titles']).setOutputCol('trunc_titles')\n",
        "lemmatizer_bodies = LemmatizerModel.pretrained().setInputCols(['tokenized_bodies']).setOutputCol('trunc_bodies')\n",
        "ngrammer_titles = NGramGenerator().setInputCols(['trunc_titles']).setOutputCol('ngrams_titles').setN(2).setEnableCumulative(True)\n",
        "ngrammer_bodies = NGramGenerator().setInputCols(['trunc_bodies']).setOutputCol('ngrams_bodies').setN(2).setEnableCumulative(True)\n",
        "finisher = Finisher().setInputCols(['ngrams_titles','ngrams_bodies'])\n",
        "\n",
        "tf_titles = CountVectorizer(inputCol='finished_ngrams_titles',outputCol='tf_features_titles')\n",
        "tf_bodies = CountVectorizer(inputCol='finished_ngrams_bodies',outputCol='tf_features_bodies')\n",
        "idf_titles = IDF(inputCol='tf_features_titles', outputCol='idf_titles',minDocFreq=5)\n",
        "idf_bodies = IDF(inputCol='tf_features_bodies', outputCol='idf_bodies',minDocFreq=5)\n",
        "author_stringIdx = StringIndexer(inputCol=\"author_association\", outputCol=\"author_index\")\n",
        "ohe = OneHotEncoder(inputCol=\"author_index\", outputCol=\"aa\")\n",
        "assembler = VectorAssembler(inputCols=['aa', 'idf_titles', 'idf_bodies'],outputCol='features')\n",
        "label_stringIdx = StringIndexer(inputCol = \"Target\", outputCol = \"label\")\n",
        "\n",
        "nlp_pipe = Pipeline().setStages([documentAssemblerTitle,\n",
        "                    documentAssemblerBody,\n",
        "                    tokenizer_titles,\n",
        "                    tokenizer_bodies,\n",
        "                    lemmatizer_titles,\n",
        "                    lemmatizer_bodies,\n",
        "                    ngrammer_titles,\n",
        "                    ngrammer_bodies,\n",
        "                    finisher,\n",
        "                    tf_titles,\n",
        "                    tf_bodies,\n",
        "                    idf_titles,\n",
        "                    idf_bodies,\n",
        "                    author_stringIdx,\n",
        "                    ohe,\n",
        "                    assembler,\n",
        "                    label_stringIdx])"
      ]
    },
    {
      "cell_type": "markdown",
      "metadata": {
        "id": "tG5JaQakBm78"
      },
      "source": [
        "**NOTE:** Spark NLP and Spark ML are not compatible in terms of the pySpark Pipeline and CrossValidate (took a very long time to learn this). We need to make the NLP pre-processing and intermediate step in the process.\n",
        "\n",
        "Source: https://github.com/JohnSnowLabs/spark-nlp/issues/1158\n",
        "\n",
        "We will fit/transform the NLP part of the pipeline and feed it into the Classifiers later on. This also has the added benefit of not having to re-run the NLP pre-processing on each iteration of grid search, but load it from cache instead."
      ]
    },
    {
      "cell_type": "code",
      "execution_count": 18,
      "metadata": {
        "id": "UGkPUjfD4hsw",
        "colab": {
          "base_uri": "https://localhost:8080/"
        },
        "outputId": "4b658b51-94ed-44c9-ab18-43dc4a6585da"
      },
      "outputs": [
        {
          "output_type": "execute_result",
          "data": {
            "text/plain": [
              "DataFrame[features: vector, label: double]"
            ]
          },
          "metadata": {},
          "execution_count": 18
        }
      ],
      "source": [
        "nlp_fit = nlp_pipe.fit(train_data)\n",
        "nlp_train = nlp_fit.transform(train_data)\n",
        "nlp_train = nlp_train.select(col('features'), col('label'))\n",
        "\n",
        "nlp_validate = nlp_fit.transform(validation_data)\n",
        "nlp_validate = nlp_validate.select(col('features'), col('label'))\n",
        "\n",
        "# Save to file for future reference, and load to cache\n",
        "nlp_train.write.mode('overwrite').parquet(\"./nlp/nlp_train.parquet\")\n",
        "nlp_train = spark.read.parquet(\"./nlp/nlp_train.parquet\")\n",
        "nlp_train.cache()\n",
        "\n",
        "nlp_validate.write.mode('overwrite').parquet(\"./nlp/nlp_validate.parquet\")\n",
        "nlp_validate = spark.read.parquet(\"./nlp/nlp_validate.parquet\")\n",
        "nlp_validate.cache()"
      ]
    },
    {
      "cell_type": "markdown",
      "metadata": {
        "application/vnd.databricks.v1+cell": {
          "cellMetadata": {},
          "inputWidgets": {},
          "nuid": "9c5f731a-4aae-46ea-a861-fa699385098f",
          "showTitle": false,
          "title": ""
        },
        "id": "A0zh37pl4Cez"
      },
      "source": [
        "### Stage 4\n",
        "\n",
        "Apply and fit the model pipeline.\n",
        "\n",
        "First, fit and transform the pipeline with our training dataset."
      ]
    },
    {
      "cell_type": "code",
      "execution_count": 19,
      "metadata": {
        "application/vnd.databricks.v1+cell": {
          "cellMetadata": {},
          "inputWidgets": {},
          "nuid": "4ff7eb72-6b28-44eb-8088-3f82eacbb0db",
          "showTitle": false,
          "title": ""
        },
        "id": "r5NHYowrcRro"
      },
      "outputs": [],
      "source": [
        "from pyspark.ml.classification import LogisticRegression\n",
        "lr = LogisticRegression()\n",
        "lr_model = lr.fit(nlp_train)"
      ]
    },
    {
      "cell_type": "code",
      "execution_count": 20,
      "metadata": {
        "application/vnd.databricks.v1+cell": {
          "cellMetadata": {},
          "inputWidgets": {},
          "nuid": "555f0f01-d4e3-434b-9afc-0356d75f5d6e",
          "showTitle": false,
          "title": ""
        },
        "id": "xBqdbQm5jicf"
      },
      "outputs": [],
      "source": [
        "predictions_train = lr_model.transform(nlp_train)"
      ]
    },
    {
      "cell_type": "markdown",
      "metadata": {
        "id": "ASNCvzrvqvv4"
      },
      "source": [
        "Evaluate the predictions. We have a perfect training score, which could be expected given that we have many more features than samples on a linear model."
      ]
    },
    {
      "cell_type": "code",
      "execution_count": 21,
      "metadata": {
        "application/vnd.databricks.v1+cell": {
          "cellMetadata": {},
          "inputWidgets": {},
          "nuid": "7e21930b-a0fe-44db-bc34-9ce90c6be2fb",
          "showTitle": false,
          "title": ""
        },
        "colab": {
          "base_uri": "https://localhost:8080/"
        },
        "id": "eh8llp2Gjq_n",
        "outputId": "48687047-a69a-4ebf-e011-34f10167c2fc"
      },
      "outputs": [
        {
          "output_type": "stream",
          "name": "stdout",
          "text": [
            "Train Accuracy Score: 1.0000\n",
            "Train ROC-AUC: 1.0000\n"
          ]
        }
      ],
      "source": [
        "from pyspark.ml.evaluation import MulticlassClassificationEvaluator \n",
        "\n",
        "evaluator = MulticlassClassificationEvaluator()\n",
        "\n",
        "accuracy = predictions_train.filter(predictions_train.label == predictions_train.prediction).count() / float(predictions_train.count())\n",
        "roc_auc = evaluator.evaluate(predictions_train)\n",
        "print(\"Train Accuracy Score: {0:.4f}\".format(accuracy))\n",
        "print(\"Train ROC-AUC: {0:.4f}\".format(roc_auc))"
      ]
    },
    {
      "cell_type": "markdown",
      "metadata": {
        "id": "WRUeJvRzt6av"
      },
      "source": [
        "Save the trained model for faster loading in the future:"
      ]
    },
    {
      "cell_type": "code",
      "execution_count": 22,
      "metadata": {
        "id": "iJI4iMd1t9X9"
      },
      "outputs": [],
      "source": [
        "from pyspark.ml.classification import LogisticRegressionModel\n",
        "lr_model.write().overwrite().save(\"./trainedmodels/lr\")\n",
        "lr_model = LogisticRegressionModel.load(\"./trainedmodels/lr\")\n",
        "# from google.colab import files\n",
        "# files.download('/trainedmodels/lr')"
      ]
    },
    {
      "cell_type": "markdown",
      "metadata": {
        "id": "4iWFudjHrMcO"
      },
      "source": [
        "Now, apply the model to our validation set to see how it performs on new data:"
      ]
    },
    {
      "cell_type": "code",
      "execution_count": 23,
      "metadata": {
        "id": "vIDHBJVyrhjt"
      },
      "outputs": [],
      "source": [
        "predictions_validate = lr_model.transform(nlp_validate)"
      ]
    },
    {
      "cell_type": "code",
      "execution_count": 24,
      "metadata": {
        "colab": {
          "base_uri": "https://localhost:8080/"
        },
        "id": "tdmCADmfn-FT",
        "outputId": "63831aab-9cf8-49a0-aac2-17a283b84ae8"
      },
      "outputs": [
        {
          "output_type": "stream",
          "name": "stdout",
          "text": [
            "Validation Accuracy Score: 0.4826\n",
            "Validation ROC-AUC: 0.4855\n"
          ]
        }
      ],
      "source": [
        "accuracy = predictions_validate.filter(predictions_validate.label == predictions_validate.prediction).count() / float(predictions_validate.count())\n",
        "roc_auc = evaluator.evaluate(predictions_validate)\n",
        "print(\"Validation Accuracy Score: {0:.4f}\".format(accuracy))\n",
        "print(\"Validation ROC-AUC: {0:.4f}\".format(roc_auc))"
      ]
    },
    {
      "cell_type": "markdown",
      "metadata": {
        "id": "exLl4NFar5Vi"
      },
      "source": [
        "Take a look at the confusion matrix to see where the model made its mistakes:"
      ]
    },
    {
      "cell_type": "markdown",
      "metadata": {
        "id": "41zHlVwQn-FU"
      },
      "source": [
        "# TODO: Do we want to make this into a heatmap/confusion matrix? The data is all here, but we would need to format it differently."
      ]
    },
    {
      "cell_type": "code",
      "execution_count": 25,
      "metadata": {
        "id": "gjaOvqpRy85e",
        "colab": {
          "base_uri": "https://localhost:8080/"
        },
        "outputId": "8a05c6ac-4a92-4cd7-eb6d-7934752edb13"
      },
      "outputs": [
        {
          "output_type": "stream",
          "name": "stdout",
          "text": [
            "+-----------+---------------+-----+\n",
            "|TargetLabel|PredictionLabel|count|\n",
            "+-----------+---------------+-----+\n",
            "|        Bug|          Other|    9|\n",
            "|    Support|        Support|   34|\n",
            "|    Feature|            Bug|    1|\n",
            "|      Other|        Support|   18|\n",
            "|        Bug|            Bug|   10|\n",
            "|    Support|          Other|   33|\n",
            "|    Feature|        Support|    1|\n",
            "|        Bug|        Feature|    1|\n",
            "|        Bug|        Support|    7|\n",
            "|    Support|            Bug|    8|\n",
            "|      Other|          Other|   48|\n",
            "|    Support|        Feature|    8|\n",
            "|      Other|            Bug|   11|\n",
            "|    Feature|        Feature|    5|\n",
            "|      Other|        Feature|    6|\n",
            "|    Feature|          Other|    1|\n",
            "+-----------+---------------+-----+\n",
            "\n"
          ]
        }
      ],
      "source": [
        "# generate the hits/misses\n",
        "confusion_table = predictions_validate.groupBy('label','prediction').count()\n",
        "\n",
        "# Get the labels back from the model\n",
        "from pyspark.ml.feature import IndexToString\n",
        "t_labels = IndexToString(inputCol=\"label\", outputCol=\"TargetLabel\")\n",
        "p_labels = IndexToString(inputCol='prediction', outputCol=\"PredictionLabel\", labels=[\"Other\", \"Support\", \"Bug\", \"Feature\"]) \n",
        "\n",
        "confusion_table = t_labels.transform(confusion_table)\n",
        "confusion_table = p_labels.transform(confusion_table)\n",
        "confusion_table = confusion_table.select(col(\"TargetLabel\"), col(\"PredictionLabel\"), col(\"count\"))\n",
        "\n",
        "#display the table with the confusion results\n",
        "confusion_table.show()"
      ]
    },
    {
      "cell_type": "markdown",
      "metadata": {
        "application/vnd.databricks.v1+cell": {
          "cellMetadata": {},
          "inputWidgets": {},
          "nuid": "2a2f17dd-7fe1-40b6-91f6-2a926e0adb1b",
          "showTitle": false,
          "title": ""
        },
        "id": "gn6ZXJSI1akt"
      },
      "source": [
        "### Stage 5\n",
        "#### Grid Search for optimizing model\n",
        "\n",
        "Use grid search with cross validate to find potentially better model parameters.\n",
        "\n",
        "We will use the lr (LogisticRegression classifier) we created earlier"
      ]
    },
    {
      "cell_type": "code",
      "execution_count": 26,
      "metadata": {
        "application/vnd.databricks.v1+cell": {
          "cellMetadata": {},
          "inputWidgets": {},
          "nuid": "0f5f2735-323d-4bd6-8140-fc272409d948",
          "showTitle": false,
          "title": ""
        },
        "id": "YNzRE6-rf9s9"
      },
      "outputs": [],
      "source": [
        "from pyspark.ml.evaluation import MulticlassClassificationEvaluator, BinaryClassificationEvaluator\n",
        "from pyspark.ml.tuning import CrossValidator, ParamGridBuilder\n",
        "import numpy as np\n",
        "\n",
        "\n",
        "paramGrid_lr = ParamGridBuilder() \\\n",
        "    .addGrid(lr.regParam, [0, 0.01, 0.1, 1, 10]) \\\n",
        "    .addGrid(lr.elasticNetParam, [0, 1]) \\\n",
        "    .build()\n",
        "\n",
        "evaluator = MulticlassClassificationEvaluator()\n",
        "cv = CrossValidator(estimator=lr,\n",
        "                    estimatorParamMaps=paramGrid_lr,\n",
        "                    evaluator=evaluator,\n",
        "                    numFolds=5)\n",
        "\n",
        "# use the output from the NLP train pipeline\n",
        "cvModel = cv.fit(nlp_train)"
      ]
    },
    {
      "cell_type": "code",
      "execution_count": 27,
      "metadata": {
        "id": "9GQWHUdbuydr"
      },
      "outputs": [],
      "source": [
        "# save the model to make future analysis easier (won't have to re-perform grid search)\n",
        "from pyspark.ml.tuning import CrossValidatorModel\n",
        "cvModel.write().overwrite().save(\"./trainedmodels/cvlr\")\n",
        "cvModel = CrossValidatorModel.load(\"./trainedmodels/cvlr\")"
      ]
    },
    {
      "cell_type": "code",
      "execution_count": 28,
      "metadata": {
        "application/vnd.databricks.v1+cell": {
          "cellMetadata": {},
          "inputWidgets": {},
          "nuid": "506f7c77-9a9e-49ee-ba46-4dfdaa52e6f6",
          "showTitle": false,
          "title": ""
        },
        "id": "eZChA8w24Ce0",
        "outputId": "96909761-a892-4ee8-b52b-6924d3d0f9cb",
        "colab": {
          "base_uri": "https://localhost:8080/"
        }
      },
      "outputs": [
        {
          "output_type": "execute_result",
          "data": {
            "text/plain": [
              "{Param(parent='LogisticRegression_ac18c7a57420', name='aggregationDepth', doc='suggested depth for treeAggregate (>= 2).'): 2,\n",
              " Param(parent='LogisticRegression_ac18c7a57420', name='elasticNetParam', doc='the ElasticNet mixing parameter, in range [0, 1]. For alpha = 0, the penalty is an L2 penalty. For alpha = 1, it is an L1 penalty.'): 0.0,\n",
              " Param(parent='LogisticRegression_ac18c7a57420', name='family', doc='The name of family which is a description of the label distribution to be used in the model. Supported options: auto, binomial, multinomial'): 'auto',\n",
              " Param(parent='LogisticRegression_ac18c7a57420', name='featuresCol', doc='features column name.'): 'features',\n",
              " Param(parent='LogisticRegression_ac18c7a57420', name='fitIntercept', doc='whether to fit an intercept term.'): True,\n",
              " Param(parent='LogisticRegression_ac18c7a57420', name='labelCol', doc='label column name.'): 'label',\n",
              " Param(parent='LogisticRegression_ac18c7a57420', name='maxBlockSizeInMB', doc='maximum memory in MB for stacking input data into blocks. Data is stacked within partitions. If more than remaining data size in a partition then it is adjusted to the data size. Default 0.0 represents choosing optimal value, depends on specific algorithm. Must be >= 0.'): 0.0,\n",
              " Param(parent='LogisticRegression_ac18c7a57420', name='maxIter', doc='max number of iterations (>= 0).'): 100,\n",
              " Param(parent='LogisticRegression_ac18c7a57420', name='predictionCol', doc='prediction column name.'): 'prediction',\n",
              " Param(parent='LogisticRegression_ac18c7a57420', name='probabilityCol', doc='Column name for predicted class conditional probabilities. Note: Not all models output well-calibrated probability estimates! These probabilities should be treated as confidences, not precise probabilities.'): 'probability',\n",
              " Param(parent='LogisticRegression_ac18c7a57420', name='rawPredictionCol', doc='raw prediction (a.k.a. confidence) column name.'): 'rawPrediction',\n",
              " Param(parent='LogisticRegression_ac18c7a57420', name='regParam', doc='regularization parameter (>= 0).'): 1.0,\n",
              " Param(parent='LogisticRegression_ac18c7a57420', name='standardization', doc='whether to standardize the training features before fitting the model.'): True,\n",
              " Param(parent='LogisticRegression_ac18c7a57420', name='threshold', doc='Threshold in binary classification prediction, in range [0, 1]. If threshold and thresholds are both set, they must match.e.g. if threshold is p, then thresholds must be equal to [1-p, p].'): 0.5,\n",
              " Param(parent='LogisticRegression_ac18c7a57420', name='tol', doc='the convergence tolerance for iterative algorithms (>= 0).'): 1e-06}"
            ]
          },
          "metadata": {},
          "execution_count": 28
        }
      ],
      "source": [
        "# the parameters for the best model:\n",
        "cvModel.bestModel.extractParamMap()"
      ]
    },
    {
      "cell_type": "markdown",
      "source": [
        "# TODO: Can we do a heatmap of the accuracies based on the different parameters using this info?"
      ],
      "metadata": {
        "id": "AcMUdOjps2VN"
      }
    },
    {
      "cell_type": "code",
      "execution_count": 29,
      "metadata": {
        "application/vnd.databricks.v1+cell": {
          "cellMetadata": {},
          "inputWidgets": {},
          "nuid": "0ce26a07-bd69-4323-8285-38b68da5b46a",
          "showTitle": false,
          "title": ""
        },
        "id": "FOdqZ1se4Ce1",
        "outputId": "43b1383d-5c47-482b-ba6c-cf3c02b8a7c6",
        "colab": {
          "base_uri": "https://localhost:8080/"
        }
      },
      "outputs": [
        {
          "output_type": "stream",
          "name": "stdout",
          "text": [
            "[0.48772423058493425, 0.48772423058493425, 0.49810102966344216, 0.4747221926101302, 0.4916036560447759, 0.2637283612606115, 0.5011613566975865, 0.2641845579320654, 0.47971382785623373, 0.2641845579320654]\n"
          ]
        }
      ],
      "source": [
        "# get the accuracy metrics for the models. This is a list.\n",
        "avgMetricsGrid = cvModel.avgMetrics\n",
        "print(avgMetricsGrid)"
      ]
    },
    {
      "cell_type": "markdown",
      "metadata": {
        "id": "0ehczOIxCSKo"
      },
      "source": [
        "Now, we will fit our best model on the validation data again:"
      ]
    },
    {
      "cell_type": "code",
      "execution_count": 30,
      "metadata": {
        "id": "Ui9omnQsCaer"
      },
      "outputs": [],
      "source": [
        "predictions_best_model_lr = cvModel.transform(nlp_validate)"
      ]
    },
    {
      "cell_type": "code",
      "execution_count": 32,
      "metadata": {
        "id": "9MbcEWKPCkIc",
        "colab": {
          "base_uri": "https://localhost:8080/"
        },
        "outputId": "336fea0c-6b3c-4ae1-9cf9-489f6c218fef"
      },
      "outputs": [
        {
          "output_type": "stream",
          "name": "stdout",
          "text": [
            "Best Validation Accuracy Score (LR): 0.5323\n",
            "Best Validation ROC-AUC (LR): 0.4997\n"
          ]
        }
      ],
      "source": [
        "accuracy = predictions_best_model_lr.filter(predictions_best_model_lr.label == predictions_best_model_lr.prediction).count() / float(predictions_best_model_lr.count())\n",
        "roc_auc = evaluator.evaluate(predictions_best_model_lr)\n",
        "print(\"Best Validation Accuracy Score (LR): {0:.4f}\".format(accuracy))\n",
        "print(\"Best Validation ROC-AUC (LR): {0:.4f}\".format(roc_auc))"
      ]
    },
    {
      "cell_type": "code",
      "execution_count": 33,
      "metadata": {
        "id": "H8MIQGFyCose",
        "colab": {
          "base_uri": "https://localhost:8080/"
        },
        "outputId": "e22c669d-666f-449c-b4d7-a2b277d19560"
      },
      "outputs": [
        {
          "output_type": "stream",
          "name": "stdout",
          "text": [
            "+-----------+---------------+-----+\n",
            "|TargetLabel|PredictionLabel|count|\n",
            "+-----------+---------------+-----+\n",
            "|        Bug|          Other|   15|\n",
            "|    Support|        Support|   49|\n",
            "|      Other|        Support|   27|\n",
            "|    Support|          Other|   34|\n",
            "|        Bug|            Bug|    2|\n",
            "|    Feature|        Support|    4|\n",
            "|        Bug|        Support|   10|\n",
            "|      Other|          Other|   55|\n",
            "|      Other|            Bug|    1|\n",
            "|    Feature|        Feature|    1|\n",
            "|    Feature|          Other|    3|\n",
            "+-----------+---------------+-----+\n",
            "\n"
          ]
        }
      ],
      "source": [
        "# generate the hits/misses\n",
        "confusion_table = predictions_best_model_lr.groupBy('label','prediction').count()\n",
        "\n",
        "# Get the labels back from the model\n",
        "from pyspark.ml.feature import IndexToString\n",
        "t_labels = IndexToString(inputCol=\"label\", outputCol=\"TargetLabel\")\n",
        "p_labels = IndexToString(inputCol='prediction', outputCol=\"PredictionLabel\", labels=[\"Other\", \"Support\", \"Bug\", \"Feature\"]) \n",
        "\n",
        "confusion_table = t_labels.transform(confusion_table)\n",
        "confusion_table = p_labels.transform(confusion_table)\n",
        "confusion_table = confusion_table.select(col(\"TargetLabel\"), col(\"PredictionLabel\"), col(\"count\"))\n",
        "\n",
        "#display the table with the confusion results\n",
        "confusion_table.show()"
      ]
    },
    {
      "cell_type": "markdown",
      "source": [
        "A few more metrics:"
      ],
      "metadata": {
        "id": "yuqNHx-P_ZwN"
      }
    },
    {
      "cell_type": "code",
      "source": [
        "import matplotlib.pyplot as plt\n",
        "import seaborn as sns"
      ],
      "metadata": {
        "id": "zEFbwKRqMAJd"
      },
      "execution_count": 163,
      "outputs": []
    },
    {
      "cell_type": "code",
      "source": [
        "from pyspark.mllib.evaluation import MulticlassMetrics\n",
        "predications_and_labels = predictions_best_model_lr.select(col('label'),col('prediction'))\n",
        "labels = [\"Other\", \"Support\", \"Bug\", \"Feature\"]\n",
        "metrics = MulticlassMetrics(predications_and_labels.rdd)"
      ],
      "metadata": {
        "colab": {
          "base_uri": "https://localhost:8080/"
        },
        "id": "yCuapH66_bId",
        "outputId": "59531ac5-70bd-46ea-953b-522fa12dfa5b"
      },
      "execution_count": 175,
      "outputs": [
        {
          "output_type": "stream",
          "name": "stderr",
          "text": [
            "/usr/local/lib/python3.8/dist-packages/pyspark/sql/context.py:125: FutureWarning: Deprecated in 3.0.0. Use SparkSession.builder.getOrCreate() instead.\n",
            "  warnings.warn(\n"
          ]
        }
      ]
    },
    {
      "cell_type": "code",
      "source": [
        "print(\"Confusion Matrix:\")\n",
        "confusion_matrix = metrics.confusionMatrix().toArray()\n",
        "plt.figure(figsize=(10,6))\n",
        "fx=sns.heatmap(confusion_matrix, annot=True, fmt=\".2f\",cmap=\"GnBu\")\n",
        "fx.set_title('Confusion Matrix Results of LR \\n');\n",
        "fx.set_xlabel('\\n Predicted Values\\n')\n",
        "fx.set_ylabel('Actual Values\\n');\n",
        "fx.xaxis.set_ticklabels([\"Other\", \"Support\", \"Bug\", \"Feature\"])\n",
        "fx.yaxis.set_ticklabels([\"Other\", \"Support\", \"Bug\", \"Feature\"])\n",
        "plt.show()"
      ],
      "metadata": {
        "colab": {
          "base_uri": "https://localhost:8080/",
          "height": 459
        },
        "id": "vVSuk6BnO6r2",
        "outputId": "9b833c85-015b-4b8b-99c7-1666d16a1579"
      },
      "execution_count": 176,
      "outputs": [
        {
          "output_type": "stream",
          "name": "stdout",
          "text": [
            "Confusion Matrix:\n"
          ]
        },
        {
          "output_type": "display_data",
          "data": {
            "text/plain": [
              "<Figure size 720x432 with 2 Axes>"
            ],
            "image/png": "[encoded data removed]"
          },
          "metadata": {
            "needs_background": "light"
          }
        }
      ]
    },
    {
      "cell_type": "code",
      "source": [
        "print(\"Accuracy: \", metrics.accuracy)\n",
        "for idx, label in enumerate(labels):\n",
        "  print(\"Precision for {}: {}\".format(label, metrics.precision(idx)))\n",
        "  print(\"Recall for {}: {}\".format(label, metrics.recall(idx)))\n",
        "  print(\"f1 score for {}: {}\".format(label, metrics.fMeasure(float(idx), 1.0)))"
      ],
      "metadata": {
        "colab": {
          "base_uri": "https://localhost:8080/"
        },
        "id": "5DeTI7xhDn-c",
        "outputId": "22e986b3-1fb7-4a9d-94dd-682709bc2898"
      },
      "execution_count": 126,
      "outputs": [
        {
          "output_type": "stream",
          "name": "stdout",
          "text": [
            "Accuracy:  0.5323383084577115\n",
            "Precision for Other: 0.6626506024096386\n",
            "Recall for Other: 0.514018691588785\n",
            "f1 score for Other: 0.5789473684210527\n",
            "Precision for Support: 0.5903614457831325\n",
            "Recall for Support: 0.5444444444444444\n",
            "f1 score for Support: 0.5664739884393063\n",
            "Precision for Bug: 0.07407407407407407\n",
            "Recall for Bug: 0.6666666666666666\n",
            "f1 score for Bug: 0.13333333333333333\n",
            "Precision for Feature: 0.125\n",
            "Recall for Feature: 1.0\n",
            "f1 score for Feature: 0.2222222222222222\n"
          ]
        }
      ]
    },
    {
      "cell_type": "markdown",
      "metadata": {
        "id": "pJd34w6YAi0v"
      },
      "source": [
        "## Naive Bayes\n",
        "Create a new pipeline for Naive Bayes"
      ]
    },
    {
      "cell_type": "code",
      "execution_count": 133,
      "metadata": {
        "application/vnd.databricks.v1+cell": {
          "cellMetadata": {},
          "inputWidgets": {},
          "nuid": "6e585fdb-36ea-4c42-8ee6-5be359e2a9a5",
          "showTitle": false,
          "title": ""
        },
        "id": "ocv1-hB24Ce1"
      },
      "outputs": [],
      "source": [
        "from pyspark.ml.classification import NaiveBayes\n",
        "\n",
        "nb = NaiveBayes()\n",
        "\n",
        "paramGrid_nb = ParamGridBuilder() \\\n",
        "    .addGrid(nb.smoothing, [0.0, 0.2, 0.4, 0.6, 0.8, 1.0]) \\\n",
        "    .build()\n",
        "\n",
        "cv_nb = CrossValidator(estimator=nb,\n",
        "                    estimatorParamMaps=paramGrid_nb,\n",
        "                    evaluator=MulticlassClassificationEvaluator(),\n",
        "                    numFolds=5)\n",
        "\n",
        "cvModelNB = cv_nb.fit(nlp_train)"
      ]
    },
    {
      "cell_type": "code",
      "execution_count": 134,
      "metadata": {
        "id": "7xFcwI6_v4_F"
      },
      "outputs": [],
      "source": [
        "# save the model to make future analysis easier (won't have to re-perform grid search)\n",
        "from pyspark.ml.tuning import CrossValidatorModel\n",
        "cvModel.write().overwrite().save(\"./trainedmodels/cvnb\")\n",
        "cvModel = CrossValidatorModel.load(\"./trainedmodels/cvnb\")"
      ]
    },
    {
      "cell_type": "code",
      "source": [
        "# the parameters for the best model:\n",
        "cvModelNB.bestModel.extractParamMap()"
      ],
      "metadata": {
        "colab": {
          "base_uri": "https://localhost:8080/"
        },
        "id": "68BaT4IrrPe4",
        "outputId": "b1837242-ae5b-48d8-e01a-c18d5ab80583"
      },
      "execution_count": 135,
      "outputs": [
        {
          "output_type": "execute_result",
          "data": {
            "text/plain": [
              "{Param(parent='NaiveBayes_8e7c9f2f7b75', name='featuresCol', doc='features column name.'): 'features',\n",
              " Param(parent='NaiveBayes_8e7c9f2f7b75', name='labelCol', doc='label column name.'): 'label',\n",
              " Param(parent='NaiveBayes_8e7c9f2f7b75', name='modelType', doc='The model type which is a string (case-sensitive). Supported options: multinomial (default), bernoulli and gaussian.'): 'multinomial',\n",
              " Param(parent='NaiveBayes_8e7c9f2f7b75', name='predictionCol', doc='prediction column name.'): 'prediction',\n",
              " Param(parent='NaiveBayes_8e7c9f2f7b75', name='probabilityCol', doc='Column name for predicted class conditional probabilities. Note: Not all models output well-calibrated probability estimates! These probabilities should be treated as confidences, not precise probabilities.'): 'probability',\n",
              " Param(parent='NaiveBayes_8e7c9f2f7b75', name='rawPredictionCol', doc='raw prediction (a.k.a. confidence) column name.'): 'rawPrediction',\n",
              " Param(parent='NaiveBayes_8e7c9f2f7b75', name='smoothing', doc='The smoothing parameter, should be >= 0, default is 1.0'): 0.2}"
            ]
          },
          "metadata": {},
          "execution_count": 135
        }
      ]
    },
    {
      "cell_type": "code",
      "execution_count": 136,
      "metadata": {
        "id": "on0Hm5blwBMq",
        "colab": {
          "base_uri": "https://localhost:8080/"
        },
        "outputId": "d3b20bb7-8354-49bd-a73e-51271000cf7f"
      },
      "outputs": [
        {
          "output_type": "stream",
          "name": "stdout",
          "text": [
            "[0.4203076125294336, 0.515048440907963, 0.5090659807673014, 0.507099240882805, 0.4955688372717284, 0.49973592877770945]\n"
          ]
        }
      ],
      "source": [
        "# get the accuracy metrics for the models. This is a list.\n",
        "avgMetricsGridNB = cvModelNB.avgMetrics\n",
        "print(avgMetricsGridNB)"
      ]
    },
    {
      "cell_type": "code",
      "source": [
        "predictions_best_model_nb = cvModelNB.transform(nlp_validate)"
      ],
      "metadata": {
        "id": "IDIRxfgzrYVb"
      },
      "execution_count": 137,
      "outputs": []
    },
    {
      "cell_type": "code",
      "source": [
        "accuracy = predictions_best_model_nb.filter(predictions_best_model_nb.label == predictions_best_model_nb.prediction).count() / float(predictions_best_model_nb.count())\n",
        "roc_auc = evaluator.evaluate(predictions_best_model_nb)\n",
        "print(\"Best Validation Accuracy Score (NB): {0:.4f}\".format(accuracy))\n",
        "print(\"Best Validation ROC-AUC (NB): {0:.4f}\".format(roc_auc))"
      ],
      "metadata": {
        "colab": {
          "base_uri": "https://localhost:8080/"
        },
        "id": "Yf8LLvuort4B",
        "outputId": "06e69f5d-b64a-4c4d-abc5-8037b2d4cf22"
      },
      "execution_count": 138,
      "outputs": [
        {
          "output_type": "stream",
          "name": "stdout",
          "text": [
            "Best Validation Accuracy Score (NB): 0.5224\n",
            "Best Validation ROC-AUC (NB): 0.4748\n"
          ]
        }
      ]
    },
    {
      "cell_type": "code",
      "source": [
        "# generate the hits/misses\n",
        "confusion_table_nb = predictions_best_model_nb.groupBy('label','prediction').count()\n",
        "\n",
        "# Get the labels back from the model\n",
        "from pyspark.ml.feature import IndexToString\n",
        "t_labels = IndexToString(inputCol=\"label\", outputCol=\"TargetLabel\")\n",
        "p_labels = IndexToString(inputCol='prediction', outputCol=\"PredictionLabel\", labels=[\"Other\", \"Support\", \"Bug\", \"Feature\"]) \n",
        "\n",
        "confusion_table_nb = t_labels.transform(confusion_table_nb)\n",
        "confusion_table_nb = p_labels.transform(confusion_table_nb)\n",
        "confusion_table_nb = confusion_table_nb.select(col(\"TargetLabel\"), col(\"PredictionLabel\"), col(\"count\"))\n",
        "\n",
        "#display the table with the confusion results\n",
        "confusion_table_nb.show()"
      ],
      "metadata": {
        "colab": {
          "base_uri": "https://localhost:8080/"
        },
        "id": "wv9Eh1Sfr9ob",
        "outputId": "412b7f4b-9907-4d4e-9dce-66d45a629d36"
      },
      "execution_count": 139,
      "outputs": [
        {
          "output_type": "stream",
          "name": "stdout",
          "text": [
            "+-----------+---------------+-----+\n",
            "|TargetLabel|PredictionLabel|count|\n",
            "+-----------+---------------+-----+\n",
            "|        Bug|          Other|    5|\n",
            "|    Support|        Support|   69|\n",
            "|      Other|        Support|   47|\n",
            "|    Support|          Other|   14|\n",
            "|        Bug|            Bug|    2|\n",
            "|    Feature|        Support|    8|\n",
            "|        Bug|        Support|   20|\n",
            "|      Other|          Other|   34|\n",
            "|      Other|            Bug|    2|\n",
            "+-----------+---------------+-----+\n",
            "\n"
          ]
        }
      ]
    },
    {
      "cell_type": "markdown",
      "source": [
        "Some More Metrics:"
      ],
      "metadata": {
        "id": "2hd8R41ZOmiw"
      }
    },
    {
      "cell_type": "code",
      "source": [
        "from pyspark.mllib.evaluation import MulticlassMetrics\n",
        "predications_and_labels = predictions_best_model_nb.select(col('label'),col('prediction'))\n",
        "labels = [\"Other\", \"Support\", \"Bug\", \"Feature\"]\n",
        "metrics = MulticlassMetrics(predications_and_labels.rdd)"
      ],
      "metadata": {
        "colab": {
          "base_uri": "https://localhost:8080/"
        },
        "id": "HfDw9YWoIwan",
        "outputId": "28879d72-d028-4fb8-f43a-9cec26a8b65c"
      },
      "execution_count": 167,
      "outputs": [
        {
          "output_type": "stream",
          "name": "stderr",
          "text": [
            "/usr/local/lib/python3.8/dist-packages/pyspark/sql/context.py:125: FutureWarning: Deprecated in 3.0.0. Use SparkSession.builder.getOrCreate() instead.\n",
            "  warnings.warn(\n"
          ]
        }
      ]
    },
    {
      "cell_type": "markdown",
      "source": [
        "For Some Reason this doesn't want to show the metrics for the \"Feature\" since it didn't have any values. There were 8 points that were all suggested to be Support, so it left it off the metrics below."
      ],
      "metadata": {
        "id": "x0YJcWuUOocw"
      }
    },
    {
      "cell_type": "code",
      "source": [
        "print(\"Confusion Matrix:\")\n",
        "confusion_matrix = metrics.confusionMatrix().toArray()\n",
        "plt.figure(figsize=(10,6))\n",
        "fx=sns.heatmap(confusion_matrix, annot=True, fmt=\".2f\",cmap=\"GnBu\")\n",
        "fx.set_title('Confusion Matrix Results of NB \\n');\n",
        "fx.set_xlabel('\\n Predicted Values\\n')\n",
        "fx.set_ylabel('Actual Values\\n');\n",
        "fx.xaxis.set_ticklabels([\"Other\", \"Support\", \"Bug\", \"Feature\"])\n",
        "fx.yaxis.set_ticklabels([\"Other\", \"Support\", \"Bug\", \"Feature\"])\n",
        "plt.show()"
      ],
      "metadata": {
        "colab": {
          "base_uri": "https://localhost:8080/",
          "height": 459
        },
        "id": "1Yqeee56MfD7",
        "outputId": "0f1bd0c2-bee0-44e1-a3d9-e3dd57739f3b"
      },
      "execution_count": 172,
      "outputs": [
        {
          "output_type": "stream",
          "name": "stdout",
          "text": [
            "Confusion Matrix:\n"
          ]
        },
        {
          "output_type": "display_data",
          "data": {
            "text/plain": [
              "<Figure size 720x432 with 2 Axes>"
            ],
            "image/png": "[encoded data removed]"
          },
          "metadata": {
            "needs_background": "light"
          }
        }
      ]
    },
    {
      "cell_type": "code",
      "source": [
        "print(\"Accuracy: \", metrics.accuracy)\n",
        "for idx, label in enumerate(labels):\n",
        "  print(\"Precision for {}: {}\".format(label, metrics.precision(idx)))\n",
        "  print(\"Recall for {}: {}\".format(label, metrics.recall(idx)))\n",
        "  print(\"f1 score for {}: {}\".format(label, metrics.fMeasure(float(idx), 1.0)))"
      ],
      "metadata": {
        "colab": {
          "base_uri": "https://localhost:8080/",
          "height": 869
        },
        "id": "kh8WdM_dLMXv",
        "outputId": "a0ee3b92-9c22-42fb-ea97-ba90fbf01d55"
      },
      "execution_count": 173,
      "outputs": [
        {
          "output_type": "stream",
          "name": "stdout",
          "text": [
            "Accuracy:  0.5223880597014925\n",
            "Precision for Other: 0.40963855421686746\n",
            "Recall for Other: 0.6415094339622641\n",
            "f1 score for Other: 0.4999999999999999\n",
            "Precision for Support: 0.8313253012048193\n",
            "Recall for Support: 0.4791666666666667\n",
            "f1 score for Support: 0.6079295154185023\n",
            "Precision for Bug: 0.07407407407407407\n",
            "Recall for Bug: 0.5\n",
            "f1 score for Bug: 0.12903225806451613\n"
          ]
        },
        {
          "output_type": "error",
          "ename": "Py4JJavaError",
          "evalue": "ignored",
          "traceback": [
            "\u001b[0;31m---------------------------------------------------------------------------\u001b[0m",
            "\u001b[0;31mPy4JJavaError\u001b[0m                             Traceback (most recent call last)",
            "\u001b[0;32m<ipython-input-173-e9d9f2059ced>\u001b[0m in \u001b[0;36m<module>\u001b[0;34m\u001b[0m\n\u001b[1;32m      1\u001b[0m \u001b[0mprint\u001b[0m\u001b[0;34m(\u001b[0m\u001b[0;34m\"Accuracy: \"\u001b[0m\u001b[0;34m,\u001b[0m \u001b[0mmetrics\u001b[0m\u001b[0;34m.\u001b[0m\u001b[0maccuracy\u001b[0m\u001b[0;34m)\u001b[0m\u001b[0;34m\u001b[0m\u001b[0;34m\u001b[0m\u001b[0m\n\u001b[1;32m      2\u001b[0m \u001b[0;32mfor\u001b[0m \u001b[0midx\u001b[0m\u001b[0;34m,\u001b[0m \u001b[0mlabel\u001b[0m \u001b[0;32min\u001b[0m \u001b[0menumerate\u001b[0m\u001b[0;34m(\u001b[0m\u001b[0mlabels\u001b[0m\u001b[0;34m)\u001b[0m\u001b[0;34m:\u001b[0m\u001b[0;34m\u001b[0m\u001b[0;34m\u001b[0m\u001b[0m\n\u001b[0;32m----> 3\u001b[0;31m   \u001b[0mprint\u001b[0m\u001b[0;34m(\u001b[0m\u001b[0;34m\"Precision for {}: {}\"\u001b[0m\u001b[0;34m.\u001b[0m\u001b[0mformat\u001b[0m\u001b[0;34m(\u001b[0m\u001b[0mlabel\u001b[0m\u001b[0;34m,\u001b[0m \u001b[0mmetrics\u001b[0m\u001b[0;34m.\u001b[0m\u001b[0mprecision\u001b[0m\u001b[0;34m(\u001b[0m\u001b[0midx\u001b[0m\u001b[0;34m)\u001b[0m\u001b[0;34m)\u001b[0m\u001b[0;34m)\u001b[0m\u001b[0;34m\u001b[0m\u001b[0;34m\u001b[0m\u001b[0m\n\u001b[0m\u001b[1;32m      4\u001b[0m   \u001b[0mprint\u001b[0m\u001b[0;34m(\u001b[0m\u001b[0;34m\"Recall for {}: {}\"\u001b[0m\u001b[0;34m.\u001b[0m\u001b[0mformat\u001b[0m\u001b[0;34m(\u001b[0m\u001b[0mlabel\u001b[0m\u001b[0;34m,\u001b[0m \u001b[0mmetrics\u001b[0m\u001b[0;34m.\u001b[0m\u001b[0mrecall\u001b[0m\u001b[0;34m(\u001b[0m\u001b[0midx\u001b[0m\u001b[0;34m)\u001b[0m\u001b[0;34m)\u001b[0m\u001b[0;34m)\u001b[0m\u001b[0;34m\u001b[0m\u001b[0;34m\u001b[0m\u001b[0m\n\u001b[1;32m      5\u001b[0m   \u001b[0mprint\u001b[0m\u001b[0;34m(\u001b[0m\u001b[0;34m\"f1 score for {}: {}\"\u001b[0m\u001b[0;34m.\u001b[0m\u001b[0mformat\u001b[0m\u001b[0;34m(\u001b[0m\u001b[0mlabel\u001b[0m\u001b[0;34m,\u001b[0m \u001b[0mmetrics\u001b[0m\u001b[0;34m.\u001b[0m\u001b[0mfMeasure\u001b[0m\u001b[0;34m(\u001b[0m\u001b[0mfloat\u001b[0m\u001b[0;34m(\u001b[0m\u001b[0midx\u001b[0m\u001b[0;34m)\u001b[0m\u001b[0;34m,\u001b[0m \u001b[0;36m1.0\u001b[0m\u001b[0;34m)\u001b[0m\u001b[0;34m)\u001b[0m\u001b[0;34m)\u001b[0m\u001b[0;34m\u001b[0m\u001b[0;34m\u001b[0m\u001b[0m\n",
            "\u001b[0;32m/usr/local/lib/python3.8/dist-packages/pyspark/mllib/evaluation.py\u001b[0m in \u001b[0;36mprecision\u001b[0;34m(self, label)\u001b[0m\n\u001b[1;32m    308\u001b[0m         \u001b[0mReturns\u001b[0m \u001b[0mprecision\u001b[0m\u001b[0;34m.\u001b[0m\u001b[0;34m\u001b[0m\u001b[0;34m\u001b[0m\u001b[0m\n\u001b[1;32m    309\u001b[0m         \"\"\"\n\u001b[0;32m--> 310\u001b[0;31m         \u001b[0;32mreturn\u001b[0m \u001b[0mself\u001b[0m\u001b[0;34m.\u001b[0m\u001b[0mcall\u001b[0m\u001b[0;34m(\u001b[0m\u001b[0;34m\"precision\"\u001b[0m\u001b[0;34m,\u001b[0m \u001b[0mfloat\u001b[0m\u001b[0;34m(\u001b[0m\u001b[0mlabel\u001b[0m\u001b[0;34m)\u001b[0m\u001b[0;34m)\u001b[0m\u001b[0;34m\u001b[0m\u001b[0;34m\u001b[0m\u001b[0m\n\u001b[0m\u001b[1;32m    311\u001b[0m \u001b[0;34m\u001b[0m\u001b[0m\n\u001b[1;32m    312\u001b[0m     \u001b[0;34m@\u001b[0m\u001b[0msince\u001b[0m\u001b[0;34m(\u001b[0m\u001b[0;34m'1.4.0'\u001b[0m\u001b[0;34m)\u001b[0m\u001b[0;34m\u001b[0m\u001b[0;34m\u001b[0m\u001b[0m\n",
            "\u001b[0;32m/usr/local/lib/python3.8/dist-packages/pyspark/mllib/common.py\u001b[0m in \u001b[0;36mcall\u001b[0;34m(self, name, *a)\u001b[0m\n\u001b[1;32m    139\u001b[0m     \u001b[0;32mdef\u001b[0m \u001b[0mcall\u001b[0m\u001b[0;34m(\u001b[0m\u001b[0mself\u001b[0m\u001b[0;34m,\u001b[0m \u001b[0mname\u001b[0m\u001b[0;34m,\u001b[0m \u001b[0;34m*\u001b[0m\u001b[0ma\u001b[0m\u001b[0;34m)\u001b[0m\u001b[0;34m:\u001b[0m\u001b[0;34m\u001b[0m\u001b[0;34m\u001b[0m\u001b[0m\n\u001b[1;32m    140\u001b[0m         \u001b[0;34m\"\"\"Call method of java_model\"\"\"\u001b[0m\u001b[0;34m\u001b[0m\u001b[0;34m\u001b[0m\u001b[0m\n\u001b[0;32m--> 141\u001b[0;31m         \u001b[0;32mreturn\u001b[0m \u001b[0mcallJavaFunc\u001b[0m\u001b[0;34m(\u001b[0m\u001b[0mself\u001b[0m\u001b[0;34m.\u001b[0m\u001b[0m_sc\u001b[0m\u001b[0;34m,\u001b[0m \u001b[0mgetattr\u001b[0m\u001b[0;34m(\u001b[0m\u001b[0mself\u001b[0m\u001b[0;34m.\u001b[0m\u001b[0m_java_model\u001b[0m\u001b[0;34m,\u001b[0m \u001b[0mname\u001b[0m\u001b[0;34m)\u001b[0m\u001b[0;34m,\u001b[0m \u001b[0;34m*\u001b[0m\u001b[0ma\u001b[0m\u001b[0;34m)\u001b[0m\u001b[0;34m\u001b[0m\u001b[0;34m\u001b[0m\u001b[0m\n\u001b[0m\u001b[1;32m    142\u001b[0m \u001b[0;34m\u001b[0m\u001b[0m\n\u001b[1;32m    143\u001b[0m \u001b[0;34m\u001b[0m\u001b[0m\n",
            "\u001b[0;32m/usr/local/lib/python3.8/dist-packages/pyspark/mllib/common.py\u001b[0m in \u001b[0;36mcallJavaFunc\u001b[0;34m(sc, func, *args)\u001b[0m\n\u001b[1;32m    116\u001b[0m     \u001b[0;34m\"\"\" Call Java Function \"\"\"\u001b[0m\u001b[0;34m\u001b[0m\u001b[0;34m\u001b[0m\u001b[0m\n\u001b[1;32m    117\u001b[0m     \u001b[0margs\u001b[0m \u001b[0;34m=\u001b[0m \u001b[0;34m[\u001b[0m\u001b[0m_py2java\u001b[0m\u001b[0;34m(\u001b[0m\u001b[0msc\u001b[0m\u001b[0;34m,\u001b[0m \u001b[0ma\u001b[0m\u001b[0;34m)\u001b[0m \u001b[0;32mfor\u001b[0m \u001b[0ma\u001b[0m \u001b[0;32min\u001b[0m \u001b[0margs\u001b[0m\u001b[0;34m]\u001b[0m\u001b[0;34m\u001b[0m\u001b[0;34m\u001b[0m\u001b[0m\n\u001b[0;32m--> 118\u001b[0;31m     \u001b[0;32mreturn\u001b[0m \u001b[0m_java2py\u001b[0m\u001b[0;34m(\u001b[0m\u001b[0msc\u001b[0m\u001b[0;34m,\u001b[0m \u001b[0mfunc\u001b[0m\u001b[0;34m(\u001b[0m\u001b[0;34m*\u001b[0m\u001b[0margs\u001b[0m\u001b[0;34m)\u001b[0m\u001b[0;34m)\u001b[0m\u001b[0;34m\u001b[0m\u001b[0;34m\u001b[0m\u001b[0m\n\u001b[0m\u001b[1;32m    119\u001b[0m \u001b[0;34m\u001b[0m\u001b[0m\n\u001b[1;32m    120\u001b[0m \u001b[0;34m\u001b[0m\u001b[0m\n",
            "\u001b[0;32m/usr/local/lib/python3.8/dist-packages/py4j/java_gateway.py\u001b[0m in \u001b[0;36m__call__\u001b[0;34m(self, *args)\u001b[0m\n\u001b[1;32m   1319\u001b[0m \u001b[0;34m\u001b[0m\u001b[0m\n\u001b[1;32m   1320\u001b[0m         \u001b[0manswer\u001b[0m \u001b[0;34m=\u001b[0m \u001b[0mself\u001b[0m\u001b[0;34m.\u001b[0m\u001b[0mgateway_client\u001b[0m\u001b[0;34m.\u001b[0m\u001b[0msend_command\u001b[0m\u001b[0;34m(\u001b[0m\u001b[0mcommand\u001b[0m\u001b[0;34m)\u001b[0m\u001b[0;34m\u001b[0m\u001b[0;34m\u001b[0m\u001b[0m\n\u001b[0;32m-> 1321\u001b[0;31m         return_value = get_return_value(\n\u001b[0m\u001b[1;32m   1322\u001b[0m             answer, self.gateway_client, self.target_id, self.name)\n\u001b[1;32m   1323\u001b[0m \u001b[0;34m\u001b[0m\u001b[0m\n",
            "\u001b[0;32m/usr/local/lib/python3.8/dist-packages/pyspark/sql/utils.py\u001b[0m in \u001b[0;36mdeco\u001b[0;34m(*a, **kw)\u001b[0m\n\u001b[1;32m    109\u001b[0m     \u001b[0;32mdef\u001b[0m \u001b[0mdeco\u001b[0m\u001b[0;34m(\u001b[0m\u001b[0;34m*\u001b[0m\u001b[0ma\u001b[0m\u001b[0;34m,\u001b[0m \u001b[0;34m**\u001b[0m\u001b[0mkw\u001b[0m\u001b[0;34m)\u001b[0m\u001b[0;34m:\u001b[0m\u001b[0;34m\u001b[0m\u001b[0;34m\u001b[0m\u001b[0m\n\u001b[1;32m    110\u001b[0m         \u001b[0;32mtry\u001b[0m\u001b[0;34m:\u001b[0m\u001b[0;34m\u001b[0m\u001b[0;34m\u001b[0m\u001b[0m\n\u001b[0;32m--> 111\u001b[0;31m             \u001b[0;32mreturn\u001b[0m \u001b[0mf\u001b[0m\u001b[0;34m(\u001b[0m\u001b[0;34m*\u001b[0m\u001b[0ma\u001b[0m\u001b[0;34m,\u001b[0m \u001b[0;34m**\u001b[0m\u001b[0mkw\u001b[0m\u001b[0;34m)\u001b[0m\u001b[0;34m\u001b[0m\u001b[0;34m\u001b[0m\u001b[0m\n\u001b[0m\u001b[1;32m    112\u001b[0m         \u001b[0;32mexcept\u001b[0m \u001b[0mpy4j\u001b[0m\u001b[0;34m.\u001b[0m\u001b[0mprotocol\u001b[0m\u001b[0;34m.\u001b[0m\u001b[0mPy4JJavaError\u001b[0m \u001b[0;32mas\u001b[0m \u001b[0me\u001b[0m\u001b[0;34m:\u001b[0m\u001b[0;34m\u001b[0m\u001b[0;34m\u001b[0m\u001b[0m\n\u001b[1;32m    113\u001b[0m             \u001b[0mconverted\u001b[0m \u001b[0;34m=\u001b[0m \u001b[0mconvert_exception\u001b[0m\u001b[0;34m(\u001b[0m\u001b[0me\u001b[0m\u001b[0;34m.\u001b[0m\u001b[0mjava_exception\u001b[0m\u001b[0;34m)\u001b[0m\u001b[0;34m\u001b[0m\u001b[0;34m\u001b[0m\u001b[0m\n",
            "\u001b[0;32m/usr/local/lib/python3.8/dist-packages/py4j/protocol.py\u001b[0m in \u001b[0;36mget_return_value\u001b[0;34m(answer, gateway_client, target_id, name)\u001b[0m\n\u001b[1;32m    324\u001b[0m             \u001b[0mvalue\u001b[0m \u001b[0;34m=\u001b[0m \u001b[0mOUTPUT_CONVERTER\u001b[0m\u001b[0;34m[\u001b[0m\u001b[0mtype\u001b[0m\u001b[0;34m]\u001b[0m\u001b[0;34m(\u001b[0m\u001b[0manswer\u001b[0m\u001b[0;34m[\u001b[0m\u001b[0;36m2\u001b[0m\u001b[0;34m:\u001b[0m\u001b[0;34m]\u001b[0m\u001b[0;34m,\u001b[0m \u001b[0mgateway_client\u001b[0m\u001b[0;34m)\u001b[0m\u001b[0;34m\u001b[0m\u001b[0;34m\u001b[0m\u001b[0m\n\u001b[1;32m    325\u001b[0m             \u001b[0;32mif\u001b[0m \u001b[0manswer\u001b[0m\u001b[0;34m[\u001b[0m\u001b[0;36m1\u001b[0m\u001b[0;34m]\u001b[0m \u001b[0;34m==\u001b[0m \u001b[0mREFERENCE_TYPE\u001b[0m\u001b[0;34m:\u001b[0m\u001b[0;34m\u001b[0m\u001b[0;34m\u001b[0m\u001b[0m\n\u001b[0;32m--> 326\u001b[0;31m                 raise Py4JJavaError(\n\u001b[0m\u001b[1;32m    327\u001b[0m                     \u001b[0;34m\"An error occurred while calling {0}{1}{2}.\\n\"\u001b[0m\u001b[0;34m.\u001b[0m\u001b[0;34m\u001b[0m\u001b[0;34m\u001b[0m\u001b[0m\n\u001b[1;32m    328\u001b[0m                     format(target_id, \".\", name), value)\n",
            "\u001b[0;31mPy4JJavaError\u001b[0m: An error occurred while calling o24016.precision.\n: java.util.NoSuchElementException: key not found: 3.0\n\tat scala.collection.immutable.Map$Map3.apply(Map.scala:325)\n\tat org.apache.spark.mllib.evaluation.MulticlassMetrics.precision(MulticlassMetrics.scala:150)\n\tat jdk.internal.reflect.GeneratedMethodAccessor262.invoke(Unknown Source)\n\tat java.base/jdk.internal.reflect.DelegatingMethodAccessorImpl.invoke(DelegatingMethodAccessorImpl.java:43)\n\tat java.base/java.lang.reflect.Method.invoke(Method.java:566)\n\tat py4j.reflection.MethodInvoker.invoke(MethodInvoker.java:244)\n\tat py4j.reflection.ReflectionEngine.invoke(ReflectionEngine.java:357)\n\tat py4j.Gateway.invoke(Gateway.java:282)\n\tat py4j.commands.AbstractCommand.invokeMethod(AbstractCommand.java:132)\n\tat py4j.commands.CallCommand.execute(CallCommand.java:79)\n\tat py4j.ClientServerConnection.waitForCommands(ClientServerConnection.java:182)\n\tat py4j.ClientServerConnection.run(ClientServerConnection.java:106)\n\tat java.base/java.lang.Thread.run(Thread.java:829)\n"
          ]
        }
      ]
    },
    {
      "cell_type": "markdown",
      "source": [
        "Download the files saved by the steps above"
      ],
      "metadata": {
        "id": "CsgfsA6BKE7I"
      }
    },
    {
      "cell_type": "code",
      "source": [
        "#first zip the files\n",
        "!zip -r /content/nlp.zip /content/nlp\n",
        "!zip -r /content/trainedmodels.zip /content/trainedmodels"
      ],
      "metadata": {
        "id": "lc-TTBi6KIBM"
      },
      "execution_count": null,
      "outputs": []
    },
    {
      "cell_type": "code",
      "source": [
        "#then download\n",
        "files.download('/content/nlp.zip')\n",
        "files.download('/content/trainedmodels.zip')"
      ],
      "metadata": {
        "colab": {
          "base_uri": "https://localhost:8080/",
          "height": 17
        },
        "id": "QHY7kGBHKeRW",
        "outputId": "c6f2239a-a5a7-4b0e-e4a3-69f3c6b5ecfb"
      },
      "execution_count": 146,
      "outputs": [
        {
          "output_type": "display_data",
          "data": {
            "text/plain": [
              "<IPython.core.display.Javascript object>"
            ],
            "application/javascript": [
              "\n",
              "    async function download(id, filename, size) {\n",
              "      if (!google.colab.kernel.accessAllowed) {\n",
              "        return;\n",
              "      }\n",
              "      const div = document.createElement('div');\n",
              "      const label = document.createElement('label');\n",
              "      label.textContent = `Downloading \"${filename}\": `;\n",
              "      div.appendChild(label);\n",
              "      const progress = document.createElement('progress');\n",
              "      progress.max = size;\n",
              "      div.appendChild(progress);\n",
              "      document.body.appendChild(div);\n",
              "\n",
              "      const buffers = [];\n",
              "      let downloaded = 0;\n",
              "\n",
              "      const channel = await google.colab.kernel.comms.open(id);\n",
              "      // Send a message to notify the kernel that we're ready.\n",
              "      channel.send({})\n",
              "\n",
              "      for await (const message of channel.messages) {\n",
              "        // Send a message to notify the kernel that we're ready.\n",
              "        channel.send({})\n",
              "        if (message.buffers) {\n",
              "          for (const buffer of message.buffers) {\n",
              "            buffers.push(buffer);\n",
              "            downloaded += buffer.byteLength;\n",
              "            progress.value = downloaded;\n",
              "          }\n",
              "        }\n",
              "      }\n",
              "      const blob = new Blob(buffers, {type: 'application/binary'});\n",
              "      const a = document.createElement('a');\n",
              "      a.href = window.URL.createObjectURL(blob);\n",
              "      a.download = filename;\n",
              "      div.appendChild(a);\n",
              "      a.click();\n",
              "      div.remove();\n",
              "    }\n",
              "  "
            ]
          },
          "metadata": {}
        },
        {
          "output_type": "display_data",
          "data": {
            "text/plain": [
              "<IPython.core.display.Javascript object>"
            ],
            "application/javascript": [
              "download(\"download_db611d35-06c2-4020-8d4e-ec8389416bd1\", \"nlp.zip\", 931267)"
            ]
          },
          "metadata": {}
        },
        {
          "output_type": "display_data",
          "data": {
            "text/plain": [
              "<IPython.core.display.Javascript object>"
            ],
            "application/javascript": [
              "\n",
              "    async function download(id, filename, size) {\n",
              "      if (!google.colab.kernel.accessAllowed) {\n",
              "        return;\n",
              "      }\n",
              "      const div = document.createElement('div');\n",
              "      const label = document.createElement('label');\n",
              "      label.textContent = `Downloading \"${filename}\": `;\n",
              "      div.appendChild(label);\n",
              "      const progress = document.createElement('progress');\n",
              "      progress.max = size;\n",
              "      div.appendChild(progress);\n",
              "      document.body.appendChild(div);\n",
              "\n",
              "      const buffers = [];\n",
              "      let downloaded = 0;\n",
              "\n",
              "      const channel = await google.colab.kernel.comms.open(id);\n",
              "      // Send a message to notify the kernel that we're ready.\n",
              "      channel.send({})\n",
              "\n",
              "      for await (const message of channel.messages) {\n",
              "        // Send a message to notify the kernel that we're ready.\n",
              "        channel.send({})\n",
              "        if (message.buffers) {\n",
              "          for (const buffer of message.buffers) {\n",
              "            buffers.push(buffer);\n",
              "            downloaded += buffer.byteLength;\n",
              "            progress.value = downloaded;\n",
              "          }\n",
              "        }\n",
              "      }\n",
              "      const blob = new Blob(buffers, {type: 'application/binary'});\n",
              "      const a = document.createElement('a');\n",
              "      a.href = window.URL.createObjectURL(blob);\n",
              "      a.download = filename;\n",
              "      div.appendChild(a);\n",
              "      a.click();\n",
              "      div.remove();\n",
              "    }\n",
              "  "
            ]
          },
          "metadata": {}
        },
        {
          "output_type": "display_data",
          "data": {
            "text/plain": [
              "<IPython.core.display.Javascript object>"
            ],
            "application/javascript": [
              "download(\"download_ac10071d-f45c-4578-a75d-4584fe204595\", \"trainedmodels.zip\", 383674)"
            ]
          },
          "metadata": {}
        }
      ]
    }
  ],
  "metadata": {
    "application/vnd.databricks.v1+notebook": {
      "dashboards": [],
      "language": "python",
      "notebookMetadata": {
        "pythonIndentUnit": 4
      },
      "notebookName": "Spark_MLAnalysis",
      "notebookOrigID": 4029936741422989,
      "widgets": {}
    },
    "colab": {
      "provenance": []
    },
    "gpuClass": "standard",
    "kernelspec": {
      "display_name": "ENSF-612",
      "language": "python",
      "name": "python3"
    },
    "language_info": {
      "codemirror_mode": {
        "name": "ipython",
        "version": 3
      },
      "file_extension": ".py",
      "mimetype": "text/x-python",
      "name": "python",
      "nbconvert_exporter": "python",
      "pygments_lexer": "ipython3",
      "version": "3.9.13"
    },
    "orig_nbformat": 4,
    "vscode": {
      "interpreter": {
        "hash": "758f2f2736c7fa9cea9c3ba7e462cc50ad01011ab3fd1554d8a168a53b5df95b"
      }
    }
  },
  "nbformat": 4,
  "nbformat_minor": 0
}