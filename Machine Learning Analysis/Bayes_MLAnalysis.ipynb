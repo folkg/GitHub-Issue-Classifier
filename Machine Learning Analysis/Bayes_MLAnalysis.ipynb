{
  "cells": [
    {
      "cell_type": "markdown",
      "metadata": {
        "id": "NdNlZ82-1akX"
      },
      "source": [
        "Import the required packages and set up the Spark session."
      ]
    },
    {
      "cell_type": "code",
      "source": [
        "# install required packages\n",
        "!apt-get install openjdk-8-jdk-headless -qq > /dev/null\n",
        "%pip install -q pyspark\n",
        "%pip install -q findspark\n",
        "%pip install -q joblibspark\n",
        "%pip install -q spacy\n",
        "%pip install -U scikit-learn\n",
        "!python -m spacy download en_core_web_sm"
      ],
      "metadata": {
        "id": "E6BmPyKI1dni"
      },
      "execution_count": null,
      "outputs": []
    },
    {
      "cell_type": "code",
      "execution_count": 3,
      "metadata": {
        "id": "RP16WrVo1akc",
        "colab": {
          "base_uri": "https://localhost:8080/",
          "height": 35
        },
        "outputId": "b30ae609-b34d-4f1f-9669-b1117dd5de04"
      },
      "outputs": [
        {
          "output_type": "execute_result",
          "data": {
            "text/plain": [
              "'/usr/local/lib/python3.8/dist-packages/pyspark'"
            ],
            "application/vnd.google.colaboratory.intrinsic+json": {
              "type": "string"
            }
          },
          "metadata": {},
          "execution_count": 3
        }
      ],
      "source": [
        "import findspark\n",
        "findspark.init()\n",
        "findspark.find()"
      ]
    },
    {
      "cell_type": "code",
      "execution_count": 4,
      "metadata": {
        "id": "tSuivZXj1akh"
      },
      "outputs": [],
      "source": [
        "from pyspark.sql import SparkSession\n",
        "import pyspark;\n",
        "spark = SparkSession.builder.appName('612Project').getOrCreate();"
      ]
    },
    {
      "cell_type": "markdown",
      "metadata": {
        "id": "F9CKtc8U1aki"
      },
      "source": [
        "Note: We will be using Spark for GridSearchCV only. This appears to be the only sklearn method currently supported by Spark. The remaining code will be executed using Pandas dataframes."
      ]
    },
    {
      "cell_type": "markdown",
      "metadata": {
        "id": "CYN69IIX1akj"
      },
      "source": [
        "Load the CSV file (n=1000 samples) containing our manual labels as the target vector"
      ]
    },
    {
      "cell_type": "code",
      "source": [
        "# This notebook was originally run in Google colab due to better hardware performance than Databricks and local machines.\n",
        "# This code should not be run locally (it will not work)\n",
        "\n",
        "# from google.colab import files\n",
        "# uploaded = files.upload()"
      ],
      "metadata": {
        "id": "0HSUh7dN3kZ4"
      },
      "execution_count": 5,
      "outputs": []
    },
    {
      "cell_type": "code",
      "execution_count": null,
      "metadata": {
        "id": "S7QhlI_41akj"
      },
      "outputs": [],
      "source": [
        "import pandas as pd\n",
        "\n",
        "df = pd.read_csv(\"GH-React.csv\")\n",
        "\n",
        "#keep only the columns we need\n",
        "df = df[['title','author_association','body','Target']]"
      ]
    },
    {
      "cell_type": "code",
      "execution_count": null,
      "metadata": {
        "id": "PJCJMcvf1akk"
      },
      "outputs": [],
      "source": [
        "print(\"Shape:\", df.shape)\n",
        "df.columns"
      ]
    },
    {
      "cell_type": "markdown",
      "metadata": {
        "id": "Y65k16_81akl"
      },
      "source": [
        "## Machine Learning Pipeline\n",
        "### Stage 1\n",
        "The preprocess() function is defined below. It takes in a String formatted as Markdown from GitHub and pre-processes it to return a new string ready for the next stages in our ML Pipeline."
      ]
    },
    {
      "cell_type": "code",
      "execution_count": null,
      "metadata": {
        "id": "Vgh1cZUk1akm"
      },
      "outputs": [],
      "source": [
        "import re\n",
        "\n",
        "def preprocess(text):\n",
        "    stripped = text.lower()\n",
        "\n",
        "    # remove all headings, bold text, and HTML comments from the Markdown text.\n",
        "    # These items have all been used by the React team in their issue templates on GitHub\n",
        "    headings_pattern = r'(<=\\s|^)#{1,6}(.*?)$'\n",
        "    bold_pattern = r'\\*\\*(.+?)\\*\\*(?!\\*)'\n",
        "    comments_pattern = r'<!--((.|\\n)*?)-->'\n",
        "    combined_pattern = r'|'.join((headings_pattern, bold_pattern, comments_pattern))\n",
        "\n",
        "    stripped = re.sub(combined_pattern, '', stripped)\n",
        "\n",
        "    # find all URLs in the string, and then remove the final directory from each to leave the general URL form\n",
        "    # there may be useful patterns based on what URLs issues are commonly linking to\n",
        "    url_pattern = re.compile(r'(https?://[^\\s]+)')\n",
        "    for url in re.findall(url_pattern, stripped):\n",
        "        new_url = url.rsplit(\"/\", 1)[0]\n",
        "        stripped = stripped.replace(url, new_url)\n",
        "\n",
        "    non_alpha_pattern = r'[^A-Za-z ]+'\n",
        "    stripped = re.sub(non_alpha_pattern, '', stripped)    \n",
        "    \n",
        "    return ' '.join(stripped.split())"
      ]
    },
    {
      "cell_type": "code",
      "execution_count": null,
      "metadata": {
        "id": "DKth1wN61ako"
      },
      "outputs": [],
      "source": [
        "#convert body and title column to unicode, there were some issues with processing\n",
        "df['body'] = df['body'].astype('U')\n",
        "df['title'] = df['title'].astype('U')"
      ]
    },
    {
      "cell_type": "markdown",
      "source": [
        "Test the preprocess function on a sample post to ensure that it works as expected:"
      ],
      "metadata": {
        "id": "uClT0AKJjGnk"
      }
    },
    {
      "cell_type": "code",
      "execution_count": null,
      "metadata": {
        "id": "IvKLByCy1akp"
      },
      "outputs": [],
      "source": [
        "test = df['body'][4]\n",
        "preprocess(test)"
      ]
    },
    {
      "cell_type": "markdown",
      "metadata": {
        "id": "avs7tFGa1akp"
      },
      "source": [
        "### Stage 2\n",
        "Split the data into training (80%) and validation(20%) sets. We will stratify based on the label since our dataset is imbalanced."
      ]
    },
    {
      "cell_type": "code",
      "execution_count": null,
      "metadata": {
        "id": "NGt0cpBf1akp"
      },
      "outputs": [],
      "source": [
        "y = df['Target']\n",
        "X = df.drop(['Target'], axis=1)"
      ]
    },
    {
      "cell_type": "code",
      "execution_count": null,
      "metadata": {
        "id": "E_EiPZd-1akp"
      },
      "outputs": [],
      "source": [
        "from sklearn.model_selection import train_test_split\n",
        "\n",
        "X_train, X_val, y_train, y_val = train_test_split(X, y, train_size=0.8, stratify=y, random_state=1)\n",
        "\n",
        "print(X_train.shape)\n",
        "print(X_val.shape)"
      ]
    },
    {
      "cell_type": "markdown",
      "metadata": {
        "id": "C_fYmBil1akq"
      },
      "source": [
        "### Stage 3\n",
        "Create a TF-IDF features matrix using TfidfVectorizer from sklearn applied to the title and body of each issue.\n",
        "\n",
        "We will additionally add in the feature 'author_association' from the GitHub issue, as there may be a correlation between Members/Collaborators/Contributors submitting more valid bugs/feature requests than \"None\" users.\n",
        "\n",
        "While lemmatization could have been done earlier in the pre-processsing stage, it is more efficient to lemmatize at this point in a custom_tokenizer() function passed to TfidfVectorizer since tokenization is part of both processses.\n",
        "\n",
        "First, define the tokenizer and vectorizer:"
      ]
    },
    {
      "cell_type": "code",
      "execution_count": null,
      "metadata": {
        "id": "evJpzt0O1akr"
      },
      "outputs": [],
      "source": [
        "import spacy\n",
        "from sklearn.feature_extraction.text import TfidfVectorizer\n",
        "\n",
        "nlp = spacy.load(\"en_core_web_sm\")\n",
        "\n",
        "# create a custom tokenizer using the spacy document processing pipeline\n",
        "def custom_tokenizer(document):\n",
        "    ppd = preprocess(document)\n",
        "    doc = nlp(ppd)\n",
        "    return [token.lemma_ for token in doc]\n",
        "\n",
        "tfidfvect = TfidfVectorizer(tokenizer=custom_tokenizer, ngram_range=(1, 2), min_df=3)"
      ]
    },
    {
      "cell_type": "markdown",
      "metadata": {
        "id": "clHOgtuV1akr"
      },
      "source": [
        "We will also use one-hot-encoding on the author-association feature"
      ]
    },
    {
      "cell_type": "markdown",
      "source": [],
      "metadata": {
        "id": "ADYJGmhLAGld"
      }
    },
    {
      "cell_type": "code",
      "execution_count": null,
      "metadata": {
        "id": "xxPVQ5rJ1akr"
      },
      "outputs": [],
      "source": [
        "from sklearn.preprocessing import OneHotEncoder\n",
        "\n",
        "# use one hot encoder to transform the author_association to a feature set\n",
        "ohe = OneHotEncoder()"
      ]
    },
    {
      "cell_type": "markdown",
      "metadata": {
        "id": "6vi3CUgv1aks"
      },
      "source": [
        "Create the features matrix using a ColumnTransformer to create a pipeline with the different feature generation methods. We will use a separate vectorizer on the body and title to produce a different set of features for each. The tokens in the title may hold different importance than the same token in the body."
      ]
    },
    {
      "cell_type": "code",
      "execution_count": null,
      "metadata": {
        "id": "N7S1k9MW1aks"
      },
      "outputs": [],
      "source": [
        "from sklearn.compose import make_column_transformer\n",
        "from sklearn.compose import ColumnTransformer\n",
        "\n",
        "ct = ColumnTransformer(\n",
        "    [(\"title\", tfidfvect, \"title\"),\n",
        "     (\"body\", tfidfvect, \"body\"),\n",
        "     (\"ohe\", ohe, ['author_association'])]\n",
        ")\n",
        "\n",
        "ct.fit(X_train)\n",
        "X_train_trans = ct.transform(X_train)\n",
        "X_train_trans.shape"
      ]
    },
    {
      "cell_type": "markdown",
      "metadata": {
        "id": "m9sD6Qoc1aks"
      },
      "source": [
        "Perform an initial analysis on our model to see how our train and validation scores look (spoiler: not great)"
      ]
    },
    {
      "cell_type": "code",
      "execution_count": null,
      "metadata": {
        "id": "RdcxiSYH1aks",
        "colab": {
          "base_uri": "https://localhost:8080/"
        },
        "outputId": "f37426bc-0377-4123-84fb-97321d19f370"
      },
      "outputs": [
        {
          "output_type": "stream",
          "name": "stdout",
          "text": [
            "Train score: 0.72\n",
            "Validation score: 0.52\n"
          ]
        }
      ],
      "source": [
        "from sklearn.naive_bayes import MultinomialNB\n",
        "mnb = MultinomialNB(alpha=0.0001)\n",
        "mnb.fit(X_train_trans, y_train)\n",
        "\n",
        "X_val_trans = ct.transform(X_val)\n",
        "print(\"Train score: {:.2f}\".format(mnb.score(X_train_trans, y_train)))\n",
        "print(\"Validation score: {:.2f}\".format(mnb.score(X_val_trans, y_val)))"
      ]
    },
    {
      "cell_type": "markdown",
      "metadata": {
        "id": "A2JXD9Ho1akt"
      },
      "source": [
        "Look at the features with the lowest and highest idf from the 'body' column just to see if things look reasonable. The features with the lowest idf are what we would think of as 'stop words', so this seems intuitive."
      ]
    },
    {
      "cell_type": "code",
      "execution_count": null,
      "metadata": {
        "id": "01QixNOT1akt",
        "colab": {
          "base_uri": "https://localhost:8080/"
        },
        "outputId": "f1432801-f284-44a0-de9b-fa471a82f0a9"
      },
      "outputs": [
        {
          "output_type": "stream",
          "name": "stdout",
          "text": [
            "Features with lowest idf:\n",
            "['the' 'be' 'to' 'a' 'not' 'in' 'and' 'this' 'I' 'react' 'it' 'of' 'do'\n",
            " 'use' 'version' 'that' 'for' 'with' 'component' 'have']\n",
            "Features with highest idf:\n",
            "['standalone' 'eject' 'start build' 'either the' 'start with' 'state I'\n",
            " 'devdependencie' 'state dispatch' 'during the' 'down the' 'still be'\n",
            " 'still have' 'do in' 'dispatch type' 'discussion' 'disabled' 'diff'\n",
            " 'subcomponent' 'state for' 'your time']\n"
          ]
        }
      ],
      "source": [
        "import numpy as np\n",
        "sorted_by_idf = np.argsort(ct.named_transformers_.body.idf_)\n",
        "feature_names = np.array(ct.named_transformers_.body.get_feature_names_out())\n",
        "\n",
        "print(\"Features with lowest idf:\\n{}\".format(feature_names[sorted_by_idf[:20]]))\n",
        "print(\"Features with highest idf:\\n{}\".format(feature_names[sorted_by_idf[-20:]]))"
      ]
    },
    {
      "cell_type": "markdown",
      "metadata": {
        "id": "LPZxVEM11akt"
      },
      "source": [
        "### TODO: See if we can visualize our text features to make sure it seems logical. Take an example from Chapter 7 in ML book."
      ]
    },
    {
      "cell_type": "markdown",
      "metadata": {
        "id": "gn6ZXJSI1akt"
      },
      "source": [
        "### Stage 4\n",
        "#### Grid Search for optimizing model\n",
        "\n",
        "Use grid search to find potentially better model parameters:"
      ]
    },
    {
      "cell_type": "code",
      "execution_count": null,
      "metadata": {
        "id": "gjdDo7EV1aku"
      },
      "outputs": [],
      "source": [
        "from sklearn.feature_extraction.text import TfidfVectorizer\n",
        "from sklearn.naive_bayes import MultinomialNB\n",
        "from sklearn.pipeline import make_pipeline\n",
        "import numpy as np\n",
        "from sklearn.model_selection import GridSearchCV\n",
        "\n",
        "####### import joblibspark for gridsearch\n",
        "from joblibspark import register_spark\n",
        "from sklearn.utils import parallel_backend\n",
        "register_spark() # register spark backend\n",
        "\n",
        "pipe = make_pipeline(ct, MultinomialNB())\n",
        "\n",
        "param_grid = {\"multinomialnb__alpha\": [0.0001, 0.001, 0.01, 0.1, 1, 10],\n",
        "                \"columntransformer__body__ngram_range\": [(1, 2), (1, 3)],\n",
        "                \"columntransformer__body__min_df\": [3, 5]\n",
        "              }\n"
      ]
    },
    {
      "cell_type": "code",
      "source": [
        "# WARNING: Running this cell will run GridSearch. Skip to loading the pickle file if you want to save time.\n",
        "\n",
        "with parallel_backend('spark',n_jobs=-1):\n",
        "  grid = GridSearchCV(pipe, param_grid, cv=5)\n",
        "  grid.fit(X_train, y_train)"
      ],
      "metadata": {
        "id": "Kt3q3vAbmT9g"
      },
      "execution_count": null,
      "outputs": []
    },
    {
      "cell_type": "code",
      "source": [
        "# write the grid object to a file so that it can be loaded in a different session for analysis\n",
        "import dill as pickle\n",
        "pickle.dump(grid, open(\"grid.pkl\", \"wb\"))\n"
      ],
      "metadata": {
        "id": "ouamge-MhlEk"
      },
      "execution_count": null,
      "outputs": []
    },
    {
      "cell_type": "code",
      "source": [
        "# this was originally run on Google colab as their hardware is better than mine\n",
        "# download the results from colab to my local drive\n",
        "# from google.colab import files\n",
        "# files.download('grid.pkl')"
      ],
      "metadata": {
        "id": "yk38yl0F4ubN"
      },
      "execution_count": null,
      "outputs": []
    },
    {
      "cell_type": "code",
      "execution_count": null,
      "metadata": {
        "id": "mbiXBK8h1aku"
      },
      "outputs": [],
      "source": [
        "# load the grid variable back from file to continue using it's\n",
        "# contents for analysis in future sessions\n",
        "grid = pickle.load(open(\"grid.pkl\", \"rb\"))"
      ]
    },
    {
      "cell_type": "code",
      "source": [
        "grid_cv_results = pd.DataFrame(grid.cv_results_)\n",
        "grid_cv_results.to_csv('grid_cv.csv', index=False)\n",
        "# from google.colab import files\n",
        "# files.download('grid_cv.csv')"
      ],
      "metadata": {
        "id": "qb206odrtf5w"
      },
      "execution_count": null,
      "outputs": []
    },
    {
      "cell_type": "code",
      "execution_count": null,
      "metadata": {
        "id": "NocnV55j1akv",
        "colab": {
          "base_uri": "https://localhost:8080/"
        },
        "outputId": "26370f06-f8fd-4954-8d8c-5c4a340e702a"
      },
      "outputs": [
        {
          "output_type": "stream",
          "name": "stdout",
          "text": [
            "Best parameters: {'columntransformer__body__min_df': 3, 'columntransformer__body__ngram_range': (1, 2), 'multinomialnb__alpha': 0.1}\n",
            "Best cross-validation score: 0.55\n"
          ]
        }
      ],
      "source": [
        "print(\"Best parameters: {}\".format(grid.best_params_))\n",
        "print(\"Best cross-validation score: {:.2f}\".format(grid.best_score_))"
      ]
    },
    {
      "cell_type": "markdown",
      "metadata": {
        "id": "3dw3uQfz1akv"
      },
      "source": [
        "### Stage 5\n",
        "Use the best parameters generated by grid transform to re-train and validate our model with the X_val and y_val data we saved in stage 3:"
      ]
    },
    {
      "cell_type": "code",
      "execution_count": null,
      "metadata": {
        "id": "TFBYQOWy1akv",
        "colab": {
          "base_uri": "https://localhost:8080/"
        },
        "outputId": "5bfb31bb-74fd-4c18-81e3-264919725f91"
      },
      "outputs": [
        {
          "output_type": "stream",
          "name": "stdout",
          "text": [
            "Train score: 0.93\n",
            "Validation score: 0.55\n"
          ]
        }
      ],
      "source": [
        "tfidfvect = TfidfVectorizer(tokenizer=custom_tokenizer, ngram_range=(1, 2), min_df=3)\n",
        "\n",
        "ct = ColumnTransformer(\n",
        "    [(\"title\", tfidfvect, \"title\"),\n",
        "     (\"body\", tfidfvect, \"body\"),\n",
        "     (\"ohe\", ohe, ['author_association'])]\n",
        ")\n",
        "\n",
        "X_train_trans = ct.fit_transform(X_train)\n",
        "\n",
        "mnb = MultinomialNB(alpha=0.1)\n",
        "mnb.fit(X_train_trans, y_train)\n",
        "\n",
        "X_val_trans = ct.transform(X_val)\n",
        "print(\"Train score: {:.2f}\".format(mnb.score(X_train_trans, y_train)))\n",
        "print(\"Validation score: {:.2f}\".format(mnb.score(X_val_trans, y_val)))"
      ]
    },
    {
      "cell_type": "markdown",
      "source": [
        "Our model doesn't perform great, but at least it beats random chance by about 20%!"
      ],
      "metadata": {
        "id": "jUOTh4cogdg5"
      }
    },
    {
      "cell_type": "code",
      "source": [
        "from sklearn.dummy import DummyClassifier\n",
        "dummy_clf = DummyClassifier(strategy=\"stratified\", random_state=0)\n",
        "dummy_clf.fit(X, y)\n",
        "\n",
        "print(\"Score based on chance: {:.2f}\".format(dummy_clf.score(X, y)))"
      ],
      "metadata": {
        "id": "KYihfb0LfRoO",
        "colab": {
          "base_uri": "https://localhost:8080/"
        },
        "outputId": "5f02df08-2229-417c-d459-53fd85da30b8"
      },
      "execution_count": null,
      "outputs": [
        {
          "output_type": "stream",
          "name": "stdout",
          "text": [
            "Score based on chance: 0.35\n"
          ]
        }
      ]
    },
    {
      "cell_type": "markdown",
      "source": [],
      "metadata": {
        "id": "6bb6ThdaWdeJ"
      }
    },
    {
      "cell_type": "markdown",
      "metadata": {
        "id": "b_bJMuax1akv"
      },
      "source": [
        "# Analysis"
      ]
    },
    {
      "cell_type": "code",
      "source": [
        "\n",
        "\n"
      ],
      "metadata": {
        "id": "cqqaCIF8jPD-"
      },
      "execution_count": null,
      "outputs": []
    },
    {
      "cell_type": "code",
      "source": [
        "logreg.classes_"
      ],
      "metadata": {
        "colab": {
          "base_uri": "https://localhost:8080/"
        },
        "id": "gIHQhot7je3h",
        "outputId": "8d7ad63d-ba93-41b4-c51e-a01d1b0d19d3"
      },
      "execution_count": null,
      "outputs": [
        {
          "output_type": "execute_result",
          "data": {
            "text/plain": [
              "array(['Bug', 'Feature', 'Other', 'Support'], dtype=object)"
            ]
          },
          "metadata": {},
          "execution_count": 69
        }
      ]
    },
    {
      "cell_type": "code",
      "source": [
        "# PRECISION\n",
        "# Precision can be seen as a measure of a classifier’s exactness.\n",
        "# For each class, it is defined as the ratio of true positives to the sum of true and false positives. \n",
        "# Said another way, “for all instances classified positive, what percent was correct?”\n",
        "\n",
        "# RECALL\n",
        "# Recall is a measure of the classifier’s completeness; \n",
        "# the ability of a classifier to correctly find all positive instances. \n",
        "# For each class, it is defined as the ratio of true positives to the sum of true positives and false negatives. \n",
        "# Said another way, “for all instances that were actually positive, what percent was classified correctly?”\n",
        "\n",
        "# F1 SCORE\n",
        "# The F1 score is a weighted harmonic mean of precision and recall such that the best score is 1.0 and the worst is 0.0. \n",
        "# Generally speaking, F1 scores are lower than accuracy measures as they embed precision and recall into their computation.\n",
        "# As a rule of thumb, the weighted average of F1 should be used to compare classifier models, not global accuracy.\n",
        "\n",
        "# SUPPORT\n",
        "# Support is the number of actual occurrences of the class in the specified dataset. \n",
        "# Imbalanced support in the training data may indicate structural weaknesses in the reported scores of the classifier and \n",
        "# could indicate the need for stratified sampling or rebalancing. Support doesn’t change between models but instead \n",
        "# diagnoses the evaluation process.\n",
        "\n",
        "# CONFUSION MATRIX\n",
        "# https://medium.com/mlearning-ai/confusion-matrix-for-multiclass-classification-f25ed7173e66\n",
        "# From the confusion matrix, we can calculate TP, TN, FP, and FN for each class. \n",
        "# By using these values, we can calculate precision, recall, and f1-score.\n",
        "\n",
        "# CLASSIFICATION REPORT\n",
        "# The classification report will display the performance metrics of the classification model. \n",
        "# It will display metrics like precision, recall,f1-score, and support for each class. \n",
        "# It also displays metrics like accuracy, macro avg, and weighted avg.\n",
        "\n",
        "from sklearn.metrics import confusion_matrix\n",
        "from sklearn.metrics import classification_report\n",
        "import seaborn as sns\n",
        "import matplotlib.pyplot as plt\n",
        "\n",
        "print(\"TRAINING RESULTS:\\n\")\n",
        "y_pred_train = mnb.predict(X_train_trans)\n",
        "\n",
        "print(\"Confusion Matrix:\")\n",
        "confusion_matrix_train = confusion_matrix(y_train,y_pred_train)\n",
        "plt.figure(figsize=(10,6))\n",
        "fx=sns.heatmap(confusion_matrix_train, annot=True, fmt=\".2f\",cmap=\"GnBu\")\n",
        "fx.set_title('Confusion Matrix Training Results \\n');\n",
        "fx.set_xlabel('\\n Predicted Values\\n')\n",
        "fx.set_ylabel('Actual Values\\n');\n",
        "fx.xaxis.set_ticklabels(['Bug', 'Feature', 'Other', 'Support'])\n",
        "fx.yaxis.set_ticklabels(['Bug', 'Feature', 'Other', 'Support'])\n",
        "plt.show()\n",
        "\n",
        "print(\"\\nClassification Report:\")\n",
        "print(classification_report(y_train,y_pred_train,zero_division=0))\n",
        "\n",
        "\n",
        "print(\"\\nVALIDATION RESULTS:\\n\")\n",
        "y_pred_val = mnb.predict(X_val_trans)\n",
        "\n",
        "print(\"Confusion Matrix:\")\n",
        "confusion_matrix_val = confusion_matrix(y_val,y_pred_val)\n",
        "\n",
        "plt.figure(figsize=(10,6))\n",
        "fx=sns.heatmap(confusion_matrix_val, annot=True, fmt=\".2f\",cmap=\"GnBu\")\n",
        "fx.set_title('Confusion Matrix Validation Results \\n');\n",
        "fx.set_xlabel('\\n Predicted Values\\n')\n",
        "fx.set_ylabel('Actual Values\\n');\n",
        "fx.xaxis.set_ticklabels(['Bug', 'Feature', 'Other', 'Support'])\n",
        "fx.yaxis.set_ticklabels(['Bug', 'Feature', 'Other', 'Support'])\n",
        "plt.show()\n",
        "\n",
        "print(\"\\nClassification Report:\")\n",
        "print(classification_report(y_val,y_pred_val,zero_division=0))"
      ],
      "metadata": {
        "colab": {
          "base_uri": "https://localhost:8080/",
          "height": 1000
        },
        "id": "GSH3Wv4Ma05n",
        "outputId": "8ccf8983-0a75-443e-b96f-22cfc0b114a5"
      },
      "execution_count": null,
      "outputs": [
        {
          "output_type": "stream",
          "name": "stdout",
          "text": [
            "TRAINING RESULTS:\n",
            "\n",
            "Confusion Matrix:\n"
          ]
        },
        {
          "output_type": "display_data",
          "data": {
            "text/plain": [
              "<Figure size 720x432 with 2 Axes>"
            ],
            "image/png": "[encoded data removed]"
          },
          "metadata": {
            "needs_background": "light"
          }
        },
        {
          "output_type": "stream",
          "name": "stdout",
          "text": [
            "\n",
            "Classification Report:\n",
            "              precision    recall  f1-score   support\n",
            "\n",
            "         Bug       0.93      0.91      0.92        99\n",
            "     Feature       1.00      0.89      0.94        35\n",
            "       Other       0.95      0.90      0.93       346\n",
            "     Support       0.90      0.97      0.93       320\n",
            "\n",
            "    accuracy                           0.93       800\n",
            "   macro avg       0.95      0.92      0.93       800\n",
            "weighted avg       0.93      0.93      0.93       800\n",
            "\n",
            "\n",
            "VALIDATION RESULTS:\n",
            "\n",
            "Confusion Matrix:\n"
          ]
        },
        {
          "output_type": "display_data",
          "data": {
            "text/plain": [
              "<Figure size 720x432 with 2 Axes>"
            ],
            "image/png": "[encoded data removed]"
          },
          "metadata": {
            "needs_background": "light"
          }
        },
        {
          "output_type": "stream",
          "name": "stdout",
          "text": [
            "\n",
            "Classification Report:\n",
            "              precision    recall  f1-score   support\n",
            "\n",
            "         Bug       0.62      0.32      0.42        25\n",
            "     Feature       1.00      0.22      0.36         9\n",
            "       Other       0.56      0.49      0.52        86\n",
            "     Support       0.52      0.71      0.60        80\n",
            "\n",
            "    accuracy                           0.55       200\n",
            "   macro avg       0.67      0.44      0.48       200\n",
            "weighted avg       0.57      0.55      0.53       200\n",
            "\n"
          ]
        }
      ]
    },
    {
      "cell_type": "code",
      "source": [
        "#Rename table for readability\n",
        "# get the parameter names\n",
        "column_results = [f\"param_{name}\" for name in param_grid.keys()]\n",
        "column_results += [\n",
        "    \"mean_test_score\", \"std_test_score\", \"rank_test_score\"]\n",
        "cv_results = grid_cv_results[column_results]\n",
        "\n",
        "def shorten_param(param_name):\n",
        "    if \"__\" in param_name:\n",
        "        return param_name.rsplit(\"__\", 1)[1]\n",
        "    return param_name\n",
        "\n",
        "#rename table\n",
        "cv_results = cv_results.rename(shorten_param, axis=1)\n",
        "cv_results"
      ],
      "metadata": {
        "colab": {
          "base_uri": "https://localhost:8080/",
          "height": 1000
        },
        "id": "WHrCGq-YTzMS",
        "outputId": "d2666bcb-dfe9-4be9-cb32-bc1f0e52d6de"
      },
      "execution_count": null,
      "outputs": [
        {
          "output_type": "execute_result",
          "data": {
            "text/plain": [
              "   alpha ngram_range min_df  mean_test_score  std_test_score  rank_test_score\n",
              "0   0.01      (1, 1)      1          0.52750        0.022569               35\n",
              "1    0.1      (1, 1)      1          0.53125        0.023717               32\n",
              "2      1      (1, 1)      1          0.53125        0.026517               32\n",
              "3     10      (1, 1)      1          0.54625        0.025800                6\n",
              "4    100      (1, 1)      1          0.43625        0.009186               40\n",
              "5   0.01      (1, 2)      1          0.54125        0.029208               17\n",
              "6    0.1      (1, 2)      1          0.54000        0.041571               19\n",
              "7      1      (1, 2)      1          0.53625        0.029155               28\n",
              "8     10      (1, 2)      1          0.53750        0.018114               27\n",
              "9    100      (1, 2)      1          0.43750        0.005590               39\n",
              "10  0.01      (1, 3)      1          0.53500        0.026693               29\n",
              "11   0.1      (1, 3)      1          0.54000        0.041571               19\n",
              "12     1      (1, 3)      1          0.54000        0.028940               23\n",
              "13    10      (1, 3)      1          0.54000        0.021139               23\n",
              "14   100      (1, 3)      1          0.43625        0.004677               40\n",
              "15  0.01      (1, 1)      3          0.52750        0.016105               35\n",
              "16   0.1      (1, 1)      3          0.53875        0.013346               25\n",
              "17     1      (1, 1)      3          0.54000        0.024875               19\n",
              "18    10      (1, 1)      3          0.54250        0.024495               14\n",
              "19   100      (1, 1)      3          0.44250        0.008292               38\n",
              "20  0.01      (1, 2)      3          0.54375        0.031375               10\n",
              "21   0.1      (1, 2)      3          0.55250        0.032740                1\n",
              "22     1      (1, 2)      3          0.53500        0.026101               29\n",
              "23    10      (1, 2)      3          0.54125        0.022569               17\n",
              "24   100      (1, 2)      3          0.43375        0.006374               44\n",
              "25  0.01      (1, 3)      3          0.53375        0.033680               31\n",
              "26   0.1      (1, 3)      3          0.54625        0.038038                6\n",
              "27     1      (1, 3)      3          0.54000        0.026693               19\n",
              "28    10      (1, 3)      3          0.54875        0.021433                4\n",
              "29   100      (1, 3)      3          0.43375        0.006374               44\n",
              "30  0.01      (1, 1)      5          0.53125        0.014252               32\n",
              "31   0.1      (1, 1)      5          0.54500        0.010000                9\n",
              "32     1      (1, 1)      5          0.54875        0.029155                4\n",
              "33    10      (1, 1)      5          0.54375        0.025000               10\n",
              "34   100      (1, 1)      5          0.44375        0.008839               37\n",
              "35  0.01      (1, 2)      5          0.54500        0.015512                8\n",
              "36   0.1      (1, 2)      5          0.55125        0.026041                2\n",
              "37     1      (1, 2)      5          0.53875        0.030974               25\n",
              "38    10      (1, 2)      5          0.54375        0.020540               10\n",
              "39   100      (1, 2)      5          0.43625        0.009186               40\n",
              "40  0.01      (1, 3)      5          0.54250        0.020310               16\n",
              "41   0.1      (1, 3)      5          0.54250        0.029422               14\n",
              "42     1      (1, 3)      5          0.54375        0.034233               10\n",
              "43    10      (1, 3)      5          0.55000        0.022361                3\n",
              "44   100      (1, 3)      5          0.43625        0.006124               40"
            ],
            "text/html": [
              "\n",
              "  <div id=\"df-f4d00ee9-73fa-461b-ac1a-45da3736f4e7\">\n",
              "    <div class=\"colab-df-container\">\n",
              "      <div>\n",
              "<style scoped>\n",
              "    .dataframe tbody tr th:only-of-type {\n",
              "        vertical-align: middle;\n",
              "    }\n",
              "\n",
              "    .dataframe tbody tr th {\n",
              "        vertical-align: top;\n",
              "    }\n",
              "\n",
              "    .dataframe thead th {\n",
              "        text-align: right;\n",
              "    }\n",
              "</style>\n",
              "<table border=\"1\" class=\"dataframe\">\n",
              "  <thead>\n",
              "    <tr style=\"text-align: right;\">\n",
              "      <th></th>\n",
              "      <th>alpha</th>\n",
              "      <th>ngram_range</th>\n",
              "      <th>min_df</th>\n",
              "      <th>mean_test_score</th>\n",
              "      <th>std_test_score</th>\n",
              "      <th>rank_test_score</th>\n",
              "    </tr>\n",
              "  </thead>\n",
              "  <tbody>\n",
              "    <tr>\n",
              "      <th>0</th>\n",
              "      <td>0.01</td>\n",
              "      <td>(1, 1)</td>\n",
              "      <td>1</td>\n",
              "      <td>0.52750</td>\n",
              "      <td>0.022569</td>\n",
              "      <td>35</td>\n",
              "    </tr>\n",
              "    <tr>\n",
              "      <th>1</th>\n",
              "      <td>0.1</td>\n",
              "      <td>(1, 1)</td>\n",
              "      <td>1</td>\n",
              "      <td>0.53125</td>\n",
              "      <td>0.023717</td>\n",
              "      <td>32</td>\n",
              "    </tr>\n",
              "    <tr>\n",
              "      <th>2</th>\n",
              "      <td>1</td>\n",
              "      <td>(1, 1)</td>\n",
              "      <td>1</td>\n",
              "      <td>0.53125</td>\n",
              "      <td>0.026517</td>\n",
              "      <td>32</td>\n",
              "    </tr>\n",
              "    <tr>\n",
              "      <th>3</th>\n",
              "      <td>10</td>\n",
              "      <td>(1, 1)</td>\n",
              "      <td>1</td>\n",
              "      <td>0.54625</td>\n",
              "      <td>0.025800</td>\n",
              "      <td>6</td>\n",
              "    </tr>\n",
              "    <tr>\n",
              "      <th>4</th>\n",
              "      <td>100</td>\n",
              "      <td>(1, 1)</td>\n",
              "      <td>1</td>\n",
              "      <td>0.43625</td>\n",
              "      <td>0.009186</td>\n",
              "      <td>40</td>\n",
              "    </tr>\n",
              "    <tr>\n",
              "      <th>5</th>\n",
              "      <td>0.01</td>\n",
              "      <td>(1, 2)</td>\n",
              "      <td>1</td>\n",
              "      <td>0.54125</td>\n",
              "      <td>0.029208</td>\n",
              "      <td>17</td>\n",
              "    </tr>\n",
              "    <tr>\n",
              "      <th>6</th>\n",
              "      <td>0.1</td>\n",
              "      <td>(1, 2)</td>\n",
              "      <td>1</td>\n",
              "      <td>0.54000</td>\n",
              "      <td>0.041571</td>\n",
              "      <td>19</td>\n",
              "    </tr>\n",
              "    <tr>\n",
              "      <th>7</th>\n",
              "      <td>1</td>\n",
              "      <td>(1, 2)</td>\n",
              "      <td>1</td>\n",
              "      <td>0.53625</td>\n",
              "      <td>0.029155</td>\n",
              "      <td>28</td>\n",
              "    </tr>\n",
              "    <tr>\n",
              "      <th>8</th>\n",
              "      <td>10</td>\n",
              "      <td>(1, 2)</td>\n",
              "      <td>1</td>\n",
              "      <td>0.53750</td>\n",
              "      <td>0.018114</td>\n",
              "      <td>27</td>\n",
              "    </tr>\n",
              "    <tr>\n",
              "      <th>9</th>\n",
              "      <td>100</td>\n",
              "      <td>(1, 2)</td>\n",
              "      <td>1</td>\n",
              "      <td>0.43750</td>\n",
              "      <td>0.005590</td>\n",
              "      <td>39</td>\n",
              "    </tr>\n",
              "    <tr>\n",
              "      <th>10</th>\n",
              "      <td>0.01</td>\n",
              "      <td>(1, 3)</td>\n",
              "      <td>1</td>\n",
              "      <td>0.53500</td>\n",
              "      <td>0.026693</td>\n",
              "      <td>29</td>\n",
              "    </tr>\n",
              "    <tr>\n",
              "      <th>11</th>\n",
              "      <td>0.1</td>\n",
              "      <td>(1, 3)</td>\n",
              "      <td>1</td>\n",
              "      <td>0.54000</td>\n",
              "      <td>0.041571</td>\n",
              "      <td>19</td>\n",
              "    </tr>\n",
              "    <tr>\n",
              "      <th>12</th>\n",
              "      <td>1</td>\n",
              "      <td>(1, 3)</td>\n",
              "      <td>1</td>\n",
              "      <td>0.54000</td>\n",
              "      <td>0.028940</td>\n",
              "      <td>23</td>\n",
              "    </tr>\n",
              "    <tr>\n",
              "      <th>13</th>\n",
              "      <td>10</td>\n",
              "      <td>(1, 3)</td>\n",
              "      <td>1</td>\n",
              "      <td>0.54000</td>\n",
              "      <td>0.021139</td>\n",
              "      <td>23</td>\n",
              "    </tr>\n",
              "    <tr>\n",
              "      <th>14</th>\n",
              "      <td>100</td>\n",
              "      <td>(1, 3)</td>\n",
              "      <td>1</td>\n",
              "      <td>0.43625</td>\n",
              "      <td>0.004677</td>\n",
              "      <td>40</td>\n",
              "    </tr>\n",
              "    <tr>\n",
              "      <th>15</th>\n",
              "      <td>0.01</td>\n",
              "      <td>(1, 1)</td>\n",
              "      <td>3</td>\n",
              "      <td>0.52750</td>\n",
              "      <td>0.016105</td>\n",
              "      <td>35</td>\n",
              "    </tr>\n",
              "    <tr>\n",
              "      <th>16</th>\n",
              "      <td>0.1</td>\n",
              "      <td>(1, 1)</td>\n",
              "      <td>3</td>\n",
              "      <td>0.53875</td>\n",
              "      <td>0.013346</td>\n",
              "      <td>25</td>\n",
              "    </tr>\n",
              "    <tr>\n",
              "      <th>17</th>\n",
              "      <td>1</td>\n",
              "      <td>(1, 1)</td>\n",
              "      <td>3</td>\n",
              "      <td>0.54000</td>\n",
              "      <td>0.024875</td>\n",
              "      <td>19</td>\n",
              "    </tr>\n",
              "    <tr>\n",
              "      <th>18</th>\n",
              "      <td>10</td>\n",
              "      <td>(1, 1)</td>\n",
              "      <td>3</td>\n",
              "      <td>0.54250</td>\n",
              "      <td>0.024495</td>\n",
              "      <td>14</td>\n",
              "    </tr>\n",
              "    <tr>\n",
              "      <th>19</th>\n",
              "      <td>100</td>\n",
              "      <td>(1, 1)</td>\n",
              "      <td>3</td>\n",
              "      <td>0.44250</td>\n",
              "      <td>0.008292</td>\n",
              "      <td>38</td>\n",
              "    </tr>\n",
              "    <tr>\n",
              "      <th>20</th>\n",
              "      <td>0.01</td>\n",
              "      <td>(1, 2)</td>\n",
              "      <td>3</td>\n",
              "      <td>0.54375</td>\n",
              "      <td>0.031375</td>\n",
              "      <td>10</td>\n",
              "    </tr>\n",
              "    <tr>\n",
              "      <th>21</th>\n",
              "      <td>0.1</td>\n",
              "      <td>(1, 2)</td>\n",
              "      <td>3</td>\n",
              "      <td>0.55250</td>\n",
              "      <td>0.032740</td>\n",
              "      <td>1</td>\n",
              "    </tr>\n",
              "    <tr>\n",
              "      <th>22</th>\n",
              "      <td>1</td>\n",
              "      <td>(1, 2)</td>\n",
              "      <td>3</td>\n",
              "      <td>0.53500</td>\n",
              "      <td>0.026101</td>\n",
              "      <td>29</td>\n",
              "    </tr>\n",
              "    <tr>\n",
              "      <th>23</th>\n",
              "      <td>10</td>\n",
              "      <td>(1, 2)</td>\n",
              "      <td>3</td>\n",
              "      <td>0.54125</td>\n",
              "      <td>0.022569</td>\n",
              "      <td>17</td>\n",
              "    </tr>\n",
              "    <tr>\n",
              "      <th>24</th>\n",
              "      <td>100</td>\n",
              "      <td>(1, 2)</td>\n",
              "      <td>3</td>\n",
              "      <td>0.43375</td>\n",
              "      <td>0.006374</td>\n",
              "      <td>44</td>\n",
              "    </tr>\n",
              "    <tr>\n",
              "      <th>25</th>\n",
              "      <td>0.01</td>\n",
              "      <td>(1, 3)</td>\n",
              "      <td>3</td>\n",
              "      <td>0.53375</td>\n",
              "      <td>0.033680</td>\n",
              "      <td>31</td>\n",
              "    </tr>\n",
              "    <tr>\n",
              "      <th>26</th>\n",
              "      <td>0.1</td>\n",
              "      <td>(1, 3)</td>\n",
              "      <td>3</td>\n",
              "      <td>0.54625</td>\n",
              "      <td>0.038038</td>\n",
              "      <td>6</td>\n",
              "    </tr>\n",
              "    <tr>\n",
              "      <th>27</th>\n",
              "      <td>1</td>\n",
              "      <td>(1, 3)</td>\n",
              "      <td>3</td>\n",
              "      <td>0.54000</td>\n",
              "      <td>0.026693</td>\n",
              "      <td>19</td>\n",
              "    </tr>\n",
              "    <tr>\n",
              "      <th>28</th>\n",
              "      <td>10</td>\n",
              "      <td>(1, 3)</td>\n",
              "      <td>3</td>\n",
              "      <td>0.54875</td>\n",
              "      <td>0.021433</td>\n",
              "      <td>4</td>\n",
              "    </tr>\n",
              "    <tr>\n",
              "      <th>29</th>\n",
              "      <td>100</td>\n",
              "      <td>(1, 3)</td>\n",
              "      <td>3</td>\n",
              "      <td>0.43375</td>\n",
              "      <td>0.006374</td>\n",
              "      <td>44</td>\n",
              "    </tr>\n",
              "    <tr>\n",
              "      <th>30</th>\n",
              "      <td>0.01</td>\n",
              "      <td>(1, 1)</td>\n",
              "      <td>5</td>\n",
              "      <td>0.53125</td>\n",
              "      <td>0.014252</td>\n",
              "      <td>32</td>\n",
              "    </tr>\n",
              "    <tr>\n",
              "      <th>31</th>\n",
              "      <td>0.1</td>\n",
              "      <td>(1, 1)</td>\n",
              "      <td>5</td>\n",
              "      <td>0.54500</td>\n",
              "      <td>0.010000</td>\n",
              "      <td>9</td>\n",
              "    </tr>\n",
              "    <tr>\n",
              "      <th>32</th>\n",
              "      <td>1</td>\n",
              "      <td>(1, 1)</td>\n",
              "      <td>5</td>\n",
              "      <td>0.54875</td>\n",
              "      <td>0.029155</td>\n",
              "      <td>4</td>\n",
              "    </tr>\n",
              "    <tr>\n",
              "      <th>33</th>\n",
              "      <td>10</td>\n",
              "      <td>(1, 1)</td>\n",
              "      <td>5</td>\n",
              "      <td>0.54375</td>\n",
              "      <td>0.025000</td>\n",
              "      <td>10</td>\n",
              "    </tr>\n",
              "    <tr>\n",
              "      <th>34</th>\n",
              "      <td>100</td>\n",
              "      <td>(1, 1)</td>\n",
              "      <td>5</td>\n",
              "      <td>0.44375</td>\n",
              "      <td>0.008839</td>\n",
              "      <td>37</td>\n",
              "    </tr>\n",
              "    <tr>\n",
              "      <th>35</th>\n",
              "      <td>0.01</td>\n",
              "      <td>(1, 2)</td>\n",
              "      <td>5</td>\n",
              "      <td>0.54500</td>\n",
              "      <td>0.015512</td>\n",
              "      <td>8</td>\n",
              "    </tr>\n",
              "    <tr>\n",
              "      <th>36</th>\n",
              "      <td>0.1</td>\n",
              "      <td>(1, 2)</td>\n",
              "      <td>5</td>\n",
              "      <td>0.55125</td>\n",
              "      <td>0.026041</td>\n",
              "      <td>2</td>\n",
              "    </tr>\n",
              "    <tr>\n",
              "      <th>37</th>\n",
              "      <td>1</td>\n",
              "      <td>(1, 2)</td>\n",
              "      <td>5</td>\n",
              "      <td>0.53875</td>\n",
              "      <td>0.030974</td>\n",
              "      <td>25</td>\n",
              "    </tr>\n",
              "    <tr>\n",
              "      <th>38</th>\n",
              "      <td>10</td>\n",
              "      <td>(1, 2)</td>\n",
              "      <td>5</td>\n",
              "      <td>0.54375</td>\n",
              "      <td>0.020540</td>\n",
              "      <td>10</td>\n",
              "    </tr>\n",
              "    <tr>\n",
              "      <th>39</th>\n",
              "      <td>100</td>\n",
              "      <td>(1, 2)</td>\n",
              "      <td>5</td>\n",
              "      <td>0.43625</td>\n",
              "      <td>0.009186</td>\n",
              "      <td>40</td>\n",
              "    </tr>\n",
              "    <tr>\n",
              "      <th>40</th>\n",
              "      <td>0.01</td>\n",
              "      <td>(1, 3)</td>\n",
              "      <td>5</td>\n",
              "      <td>0.54250</td>\n",
              "      <td>0.020310</td>\n",
              "      <td>16</td>\n",
              "    </tr>\n",
              "    <tr>\n",
              "      <th>41</th>\n",
              "      <td>0.1</td>\n",
              "      <td>(1, 3)</td>\n",
              "      <td>5</td>\n",
              "      <td>0.54250</td>\n",
              "      <td>0.029422</td>\n",
              "      <td>14</td>\n",
              "    </tr>\n",
              "    <tr>\n",
              "      <th>42</th>\n",
              "      <td>1</td>\n",
              "      <td>(1, 3)</td>\n",
              "      <td>5</td>\n",
              "      <td>0.54375</td>\n",
              "      <td>0.034233</td>\n",
              "      <td>10</td>\n",
              "    </tr>\n",
              "    <tr>\n",
              "      <th>43</th>\n",
              "      <td>10</td>\n",
              "      <td>(1, 3)</td>\n",
              "      <td>5</td>\n",
              "      <td>0.55000</td>\n",
              "      <td>0.022361</td>\n",
              "      <td>3</td>\n",
              "    </tr>\n",
              "    <tr>\n",
              "      <th>44</th>\n",
              "      <td>100</td>\n",
              "      <td>(1, 3)</td>\n",
              "      <td>5</td>\n",
              "      <td>0.43625</td>\n",
              "      <td>0.006124</td>\n",
              "      <td>40</td>\n",
              "    </tr>\n",
              "  </tbody>\n",
              "</table>\n",
              "</div>\n",
              "      <button class=\"colab-df-convert\" onclick=\"convertToInteractive('df-f4d00ee9-73fa-461b-ac1a-45da3736f4e7')\"\n",
              "              title=\"Convert this dataframe to an interactive table.\"\n",
              "              style=\"display:none;\">\n",
              "        \n",
              "  <svg xmlns=\"http://www.w3.org/2000/svg\" height=\"24px\"viewBox=\"0 0 24 24\"\n",
              "       width=\"24px\">\n",
              "    <path d=\"M0 0h24v24H0V0z\" fill=\"none\"/>\n",
              "    <path d=\"M18.56 5.44l.94 2.06.94-2.06 2.06-.94-2.06-.94-.94-2.06-.94 2.06-2.06.94zm-11 1L8.5 8.5l.94-2.06 2.06-.94-2.06-.94L8.5 2.5l-.94 2.06-2.06.94zm10 10l.94 2.06.94-2.06 2.06-.94-2.06-.94-.94-2.06-.94 2.06-2.06.94z\"/><path d=\"M17.41 7.96l-1.37-1.37c-.4-.4-.92-.59-1.43-.59-.52 0-1.04.2-1.43.59L10.3 9.45l-7.72 7.72c-.78.78-.78 2.05 0 2.83L4 21.41c.39.39.9.59 1.41.59.51 0 1.02-.2 1.41-.59l7.78-7.78 2.81-2.81c.8-.78.8-2.07 0-2.86zM5.41 20L4 18.59l7.72-7.72 1.47 1.35L5.41 20z\"/>\n",
              "  </svg>\n",
              "      </button>\n",
              "      \n",
              "  <style>\n",
              "    .colab-df-container {\n",
              "      display:flex;\n",
              "      flex-wrap:wrap;\n",
              "      gap: 12px;\n",
              "    }\n",
              "\n",
              "    .colab-df-convert {\n",
              "      background-color: #E8F0FE;\n",
              "      border: none;\n",
              "      border-radius: 50%;\n",
              "      cursor: pointer;\n",
              "      display: none;\n",
              "      fill: #1967D2;\n",
              "      height: 32px;\n",
              "      padding: 0 0 0 0;\n",
              "      width: 32px;\n",
              "    }\n",
              "\n",
              "    .colab-df-convert:hover {\n",
              "      background-color: #E2EBFA;\n",
              "      box-shadow: 0px 1px 2px rgba(60, 64, 67, 0.3), 0px 1px 3px 1px rgba(60, 64, 67, 0.15);\n",
              "      fill: #174EA6;\n",
              "    }\n",
              "\n",
              "    [theme=dark] .colab-df-convert {\n",
              "      background-color: #3B4455;\n",
              "      fill: #D2E3FC;\n",
              "    }\n",
              "\n",
              "    [theme=dark] .colab-df-convert:hover {\n",
              "      background-color: #434B5C;\n",
              "      box-shadow: 0px 1px 3px 1px rgba(0, 0, 0, 0.15);\n",
              "      filter: drop-shadow(0px 1px 2px rgba(0, 0, 0, 0.3));\n",
              "      fill: #FFFFFF;\n",
              "    }\n",
              "  </style>\n",
              "\n",
              "      <script>\n",
              "        const buttonEl =\n",
              "          document.querySelector('#df-f4d00ee9-73fa-461b-ac1a-45da3736f4e7 button.colab-df-convert');\n",
              "        buttonEl.style.display =\n",
              "          google.colab.kernel.accessAllowed ? 'block' : 'none';\n",
              "\n",
              "        async function convertToInteractive(key) {\n",
              "          const element = document.querySelector('#df-f4d00ee9-73fa-461b-ac1a-45da3736f4e7');\n",
              "          const dataTable =\n",
              "            await google.colab.kernel.invokeFunction('convertToInteractive',\n",
              "                                                     [key], {});\n",
              "          if (!dataTable) return;\n",
              "\n",
              "          const docLinkHtml = 'Like what you see? Visit the ' +\n",
              "            '<a target=\"_blank\" href=https://colab.research.google.com/notebooks/data_table.ipynb>data table notebook</a>'\n",
              "            + ' to learn more about interactive tables.';\n",
              "          element.innerHTML = '';\n",
              "          dataTable['output_type'] = 'display_data';\n",
              "          await google.colab.output.renderOutput(dataTable, element);\n",
              "          const docLink = document.createElement('div');\n",
              "          docLink.innerHTML = docLinkHtml;\n",
              "          element.appendChild(docLink);\n",
              "        }\n",
              "      </script>\n",
              "    </div>\n",
              "  </div>\n",
              "  "
            ]
          },
          "metadata": {},
          "execution_count": 27
        }
      ]
    },
    {
      "cell_type": "code",
      "source": [
        "pivoted_cv_results = cv_results.pivot_table(\n",
        "    values=\"mean_test_score\", index=[\"alpha\"],\n",
        "    columns=[\"ngram_range\"])\n",
        "\n",
        "pivoted_cv_results"
      ],
      "metadata": {
        "colab": {
          "base_uri": "https://localhost:8080/",
          "height": 238
        },
        "id": "kzTco8j7Wx2R",
        "outputId": "c54c043e-2709-426d-f893-68eb42a95ea1"
      },
      "execution_count": null,
      "outputs": [
        {
          "output_type": "execute_result",
          "data": {
            "text/plain": [
              "ngram_range    (1, 1)    (1, 2)    (1, 3)\n",
              "alpha                                    \n",
              "0.01         0.528750  0.543333  0.537083\n",
              "0.10         0.538333  0.547917  0.542917\n",
              "1.00         0.540000  0.536667  0.541250\n",
              "10.00        0.544167  0.540833  0.546250\n",
              "100.00       0.440833  0.435833  0.435417"
            ],
            "text/html": [
              "\n",
              "  <div id=\"df-b5d16d63-aa5e-4c73-af6a-2a850037a413\">\n",
              "    <div class=\"colab-df-container\">\n",
              "      <div>\n",
              "<style scoped>\n",
              "    .dataframe tbody tr th:only-of-type {\n",
              "        vertical-align: middle;\n",
              "    }\n",
              "\n",
              "    .dataframe tbody tr th {\n",
              "        vertical-align: top;\n",
              "    }\n",
              "\n",
              "    .dataframe thead th {\n",
              "        text-align: right;\n",
              "    }\n",
              "</style>\n",
              "<table border=\"1\" class=\"dataframe\">\n",
              "  <thead>\n",
              "    <tr style=\"text-align: right;\">\n",
              "      <th>ngram_range</th>\n",
              "      <th>(1, 1)</th>\n",
              "      <th>(1, 2)</th>\n",
              "      <th>(1, 3)</th>\n",
              "    </tr>\n",
              "    <tr>\n",
              "      <th>alpha</th>\n",
              "      <th></th>\n",
              "      <th></th>\n",
              "      <th></th>\n",
              "    </tr>\n",
              "  </thead>\n",
              "  <tbody>\n",
              "    <tr>\n",
              "      <th>0.01</th>\n",
              "      <td>0.528750</td>\n",
              "      <td>0.543333</td>\n",
              "      <td>0.537083</td>\n",
              "    </tr>\n",
              "    <tr>\n",
              "      <th>0.10</th>\n",
              "      <td>0.538333</td>\n",
              "      <td>0.547917</td>\n",
              "      <td>0.542917</td>\n",
              "    </tr>\n",
              "    <tr>\n",
              "      <th>1.00</th>\n",
              "      <td>0.540000</td>\n",
              "      <td>0.536667</td>\n",
              "      <td>0.541250</td>\n",
              "    </tr>\n",
              "    <tr>\n",
              "      <th>10.00</th>\n",
              "      <td>0.544167</td>\n",
              "      <td>0.540833</td>\n",
              "      <td>0.546250</td>\n",
              "    </tr>\n",
              "    <tr>\n",
              "      <th>100.00</th>\n",
              "      <td>0.440833</td>\n",
              "      <td>0.435833</td>\n",
              "      <td>0.435417</td>\n",
              "    </tr>\n",
              "  </tbody>\n",
              "</table>\n",
              "</div>\n",
              "      <button class=\"colab-df-convert\" onclick=\"convertToInteractive('df-b5d16d63-aa5e-4c73-af6a-2a850037a413')\"\n",
              "              title=\"Convert this dataframe to an interactive table.\"\n",
              "              style=\"display:none;\">\n",
              "        \n",
              "  <svg xmlns=\"http://www.w3.org/2000/svg\" height=\"24px\"viewBox=\"0 0 24 24\"\n",
              "       width=\"24px\">\n",
              "    <path d=\"M0 0h24v24H0V0z\" fill=\"none\"/>\n",
              "    <path d=\"M18.56 5.44l.94 2.06.94-2.06 2.06-.94-2.06-.94-.94-2.06-.94 2.06-2.06.94zm-11 1L8.5 8.5l.94-2.06 2.06-.94-2.06-.94L8.5 2.5l-.94 2.06-2.06.94zm10 10l.94 2.06.94-2.06 2.06-.94-2.06-.94-.94-2.06-.94 2.06-2.06.94z\"/><path d=\"M17.41 7.96l-1.37-1.37c-.4-.4-.92-.59-1.43-.59-.52 0-1.04.2-1.43.59L10.3 9.45l-7.72 7.72c-.78.78-.78 2.05 0 2.83L4 21.41c.39.39.9.59 1.41.59.51 0 1.02-.2 1.41-.59l7.78-7.78 2.81-2.81c.8-.78.8-2.07 0-2.86zM5.41 20L4 18.59l7.72-7.72 1.47 1.35L5.41 20z\"/>\n",
              "  </svg>\n",
              "      </button>\n",
              "      \n",
              "  <style>\n",
              "    .colab-df-container {\n",
              "      display:flex;\n",
              "      flex-wrap:wrap;\n",
              "      gap: 12px;\n",
              "    }\n",
              "\n",
              "    .colab-df-convert {\n",
              "      background-color: #E8F0FE;\n",
              "      border: none;\n",
              "      border-radius: 50%;\n",
              "      cursor: pointer;\n",
              "      display: none;\n",
              "      fill: #1967D2;\n",
              "      height: 32px;\n",
              "      padding: 0 0 0 0;\n",
              "      width: 32px;\n",
              "    }\n",
              "\n",
              "    .colab-df-convert:hover {\n",
              "      background-color: #E2EBFA;\n",
              "      box-shadow: 0px 1px 2px rgba(60, 64, 67, 0.3), 0px 1px 3px 1px rgba(60, 64, 67, 0.15);\n",
              "      fill: #174EA6;\n",
              "    }\n",
              "\n",
              "    [theme=dark] .colab-df-convert {\n",
              "      background-color: #3B4455;\n",
              "      fill: #D2E3FC;\n",
              "    }\n",
              "\n",
              "    [theme=dark] .colab-df-convert:hover {\n",
              "      background-color: #434B5C;\n",
              "      box-shadow: 0px 1px 3px 1px rgba(0, 0, 0, 0.15);\n",
              "      filter: drop-shadow(0px 1px 2px rgba(0, 0, 0, 0.3));\n",
              "      fill: #FFFFFF;\n",
              "    }\n",
              "  </style>\n",
              "\n",
              "      <script>\n",
              "        const buttonEl =\n",
              "          document.querySelector('#df-b5d16d63-aa5e-4c73-af6a-2a850037a413 button.colab-df-convert');\n",
              "        buttonEl.style.display =\n",
              "          google.colab.kernel.accessAllowed ? 'block' : 'none';\n",
              "\n",
              "        async function convertToInteractive(key) {\n",
              "          const element = document.querySelector('#df-b5d16d63-aa5e-4c73-af6a-2a850037a413');\n",
              "          const dataTable =\n",
              "            await google.colab.kernel.invokeFunction('convertToInteractive',\n",
              "                                                     [key], {});\n",
              "          if (!dataTable) return;\n",
              "\n",
              "          const docLinkHtml = 'Like what you see? Visit the ' +\n",
              "            '<a target=\"_blank\" href=https://colab.research.google.com/notebooks/data_table.ipynb>data table notebook</a>'\n",
              "            + ' to learn more about interactive tables.';\n",
              "          element.innerHTML = '';\n",
              "          dataTable['output_type'] = 'display_data';\n",
              "          await google.colab.output.renderOutput(dataTable, element);\n",
              "          const docLink = document.createElement('div');\n",
              "          docLink.innerHTML = docLinkHtml;\n",
              "          element.appendChild(docLink);\n",
              "        }\n",
              "      </script>\n",
              "    </div>\n",
              "  </div>\n",
              "  "
            ]
          },
          "metadata": {},
          "execution_count": 28
        }
      ]
    },
    {
      "cell_type": "code",
      "source": [
        "import seaborn as sns\n",
        "\n",
        "ax = sns.heatmap(pivoted_cv_results, annot=True, cmap=\"YlGnBu\", vmin=0.7,\n",
        "                 vmax=0.9)\n",
        "ax.invert_yaxis()"
      ],
      "metadata": {
        "colab": {
          "base_uri": "https://localhost:8080/",
          "height": 283
        },
        "id": "1jDDAVuUX7cP",
        "outputId": "1cc86afc-cc7d-4dd6-adfa-7707c06ac0aa"
      },
      "execution_count": null,
      "outputs": [
        {
          "output_type": "display_data",
          "data": {
            "text/plain": [
              "<Figure size 432x288 with 2 Axes>"
            ],
            "image/png": "[encoded data removed]"
          },
          "metadata": {
            "needs_background": "light"
          }
        }
      ]
    },
    {
      "cell_type": "markdown",
      "metadata": {
        "id": "NmzSt6Uk1akv"
      },
      "source": [
        "# Suggested TODOS\n",
        "1. Grid Search Heatmap. If our parameters are at the edge, adjust them and re-run grid seach. Otherwise, move on.\n",
        "1. Confusion Matrix between classifications. Where was the model making the most mistakes?\n",
        "1. Feature Importances. Anything stand out as interesting?\n",
        "1. Other visualizations?\n",
        "1. Analysis on model outcomes, excuses for why our results were terrible.\n",
        "1. Could try different model types. A different grid search would have to be performed for each, I don't think you can easily grid search with different types of models all in one.\n",
        "1. Anything else you guys can think of\n"
      ]
    },
    {
      "cell_type": "code",
      "source": [],
      "metadata": {
        "id": "jwEErvfUX6zr"
      },
      "execution_count": null,
      "outputs": []
    }
  ],
  "metadata": {
    "kernelspec": {
      "display_name": "ENSF-612",
      "language": "python",
      "name": "python3"
    },
    "language_info": {
      "codemirror_mode": {
        "name": "ipython",
        "version": 3
      },
      "file_extension": ".py",
      "mimetype": "text/x-python",
      "name": "python",
      "nbconvert_exporter": "python",
      "pygments_lexer": "ipython3",
      "version": "3.9.13"
    },
    "orig_nbformat": 4,
    "vscode": {
      "interpreter": {
        "hash": "758f2f2736c7fa9cea9c3ba7e462cc50ad01011ab3fd1554d8a168a53b5df95b"
      }
    },
    "colab": {
      "provenance": [],
      "collapsed_sections": [
        "NmzSt6Uk1akv"
      ]
    },
    "accelerator": "GPU",
    "gpuClass": "standard"
  },
  "nbformat": 4,
  "nbformat_minor": 0
}